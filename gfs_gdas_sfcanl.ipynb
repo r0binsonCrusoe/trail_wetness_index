{
 "cells": [
  {
   "cell_type": "code",
   "execution_count": null,
   "id": "083eb0c3",
   "metadata": {},
   "outputs": [],
   "source": [
    "import xarray as xr\n",
    "import rioxarray as rxr"
   ]
  },
  {
   "cell_type": "code",
   "execution_count": null,
   "id": "76fd17a6",
   "metadata": {},
   "outputs": [],
   "source": [
    "nc_file = \"data/gfs/gdas.t00z.sfcanl.nc\"\n",
    "# 3. Open as a single concatenated Dataset\n",
    "ds_sfcanl = xr.open_dataset(nc_file)"
   ]
  },
  {
   "cell_type": "code",
   "execution_count": null,
   "id": "2951d85d",
   "metadata": {},
   "outputs": [],
   "source": [
    "ds_sfcanl"
   ]
  },
  {
   "cell_type": "code",
   "execution_count": null,
   "id": "50686988",
   "metadata": {},
   "outputs": [],
   "source": [
    "ds_sfcanl.tprcp.chunks"
   ]
  },
  {
   "cell_type": "code",
   "execution_count": null,
   "id": "a816b494",
   "metadata": {},
   "outputs": [],
   "source": [
    "ds_sfcanl_tprcp = ds_sfcanl['tprcp']\n",
    "ds_sfcanl_tprcp"
   ]
  },
  {
   "cell_type": "code",
   "execution_count": null,
   "id": "5b450bfc",
   "metadata": {},
   "outputs": [],
   "source": [
    "ds_sfcanl_tprcp_masked = ds_sfcanl_tprcp.where(ds_sfcanl_tprcp != ds_sfcanl_tprcp.attrs['missing'])"
   ]
  },
  {
   "cell_type": "code",
   "execution_count": null,
   "id": "c739da4f",
   "metadata": {},
   "outputs": [],
   "source": [
    "us_tprcp = ds_sfcanl_tprcp_masked.sel(grid_xt=slice(((180-125.5)+180), ((180-64)+180)),grid_yt=slice(50.2, 22))"
   ]
  },
  {
   "cell_type": "code",
   "execution_count": null,
   "id": "4aa07c5c",
   "metadata": {},
   "outputs": [],
   "source": [
    "us_tprcp = us_tprcp.squeeze()"
   ]
  },
  {
   "cell_type": "code",
   "execution_count": null,
   "id": "76877a55",
   "metadata": {},
   "outputs": [],
   "source": [
    "us_tprcp.plot(robust=True) #Robust looks at figures between 2-98 percentile"
   ]
  },
  {
   "cell_type": "code",
   "execution_count": null,
   "id": "ce72ac6b",
   "metadata": {},
   "outputs": [],
   "source": [
    "us_tprcp_4326 = us_tprcp.rio.write_crs(\"EPSG:4326\")\n"
   ]
  },
  {
   "cell_type": "code",
   "execution_count": null,
   "id": "d01f037a",
   "metadata": {},
   "outputs": [],
   "source": [
    "us_tprcp_4326.plot(robust=True)"
   ]
  },
  {
   "cell_type": "code",
   "execution_count": null,
   "id": "f63defe9",
   "metadata": {},
   "outputs": [],
   "source": [
    "us_tprcp_4326_dims = us_tprcp_4326.rio.set_spatial_dims(\"grid_xt\", \"grid_yt\")"
   ]
  },
  {
   "cell_type": "code",
   "execution_count": null,
   "id": "bf6ae6cb",
   "metadata": {},
   "outputs": [],
   "source": [
    "us_tprcp_5070 = us_tprcp_4326_dims.rio.reproject(\"EPSG:5070\")"
   ]
  },
  {
   "cell_type": "code",
   "execution_count": null,
   "id": "364493d4",
   "metadata": {},
   "outputs": [],
   "source": [
    "us_tprcp_5070"
   ]
  },
  {
   "cell_type": "code",
   "execution_count": null,
   "id": "74db8f6d",
   "metadata": {},
   "outputs": [],
   "source": [
    "us_tprcp_5070.plot(robust=True)"
   ]
  },
  {
   "cell_type": "code",
   "execution_count": null,
   "id": "e6d54a23",
   "metadata": {},
   "outputs": [],
   "source": [
    "us_tprcp_5070.to_netcdf(\"data/gfs/total_precip_5070.nc\")"
   ]
  }
 ],
 "metadata": {
  "kernelspec": {
   "display_name": "can-i-ride-research",
   "language": "python",
   "name": "python3"
  },
  "language_info": {
   "codemirror_mode": {
    "name": "ipython",
    "version": 3
   },
   "file_extension": ".py",
   "mimetype": "text/x-python",
   "name": "python",
   "nbconvert_exporter": "python",
   "pygments_lexer": "ipython3",
   "version": "3.13.2"
  }
 },
 "nbformat": 4,
 "nbformat_minor": 5
}
