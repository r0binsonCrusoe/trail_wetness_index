{
 "cells": [
  {
   "cell_type": "markdown",
   "id": "61c613f2",
   "metadata": {},
   "source": [
    "# Trying to bring all the different datasets together for analysis. \n",
    "Attempt to use weighed computations in xarray? Or resize/resample so that the soil grids data is the base size (250m x 250m). "
   ]
  },
  {
   "cell_type": "code",
   "execution_count": 1,
   "id": "947de32e",
   "metadata": {},
   "outputs": [],
   "source": [
    "import xarray as xr\n",
    "import rioxarray as rxr\n"
   ]
  },
  {
   "cell_type": "code",
   "execution_count": null,
   "id": "ed14454f",
   "metadata": {},
   "outputs": [],
   "source": [
    "# Try xr.align(dataset_1, dataset_2, join=\"exact\") to check if the grids are aligned correctly. I think it will throw and error if not. From Xarray in 45 min tutorial\n"
   ]
  }
 ],
 "metadata": {
  "kernelspec": {
   "display_name": ".venv",
   "language": "python",
   "name": "python3"
  },
  "language_info": {
   "codemirror_mode": {
    "name": "ipython",
    "version": 3
   },
   "file_extension": ".py",
   "mimetype": "text/x-python",
   "name": "python",
   "nbconvert_exporter": "python",
   "pygments_lexer": "ipython3",
   "version": "3.13.2"
  }
 },
 "nbformat": 4,
 "nbformat_minor": 5
}
