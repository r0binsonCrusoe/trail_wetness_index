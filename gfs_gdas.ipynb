{
 "cells": [
  {
   "cell_type": "markdown",
   "id": "bb41f4a0",
   "metadata": {},
   "source": [
    "This is all using GDAS. I don't think I want that- I think I want regular GFS (not positive.)"
   ]
  },
  {
   "cell_type": "code",
   "execution_count": null,
   "id": "7cc16aa0",
   "metadata": {},
   "outputs": [],
   "source": [
    "\n",
    "import fsspec\n",
    "import xarray as xr"
   ]
  },
  {
   "cell_type": "code",
   "execution_count": null,
   "id": "4a515d21",
   "metadata": {},
   "outputs": [],
   "source": [
    "# 1. Point s3fs at the public bucket (no credentials needed)\n",
    "fs = fsspec.fileSystem(\"s3\", anon=True)\n",
    "date = 20250624\n",
    "# 2. List a directory (e.g. daily time_series files for soil moisture)\n",
    "path = f\"noaa-gfs-bdp-pds/gdas.{date}/00/atmos/\"  # adjust to your year/month dynamically\n",
    "file = fs.glob(\n",
    "    path + \"gdas.t00z.sfcanl.nc\"\n",
    ") \n",
    "\n",
    "with fs.open(file) as f:\n",
    "    ds = xr.open_dataset(f, engine=\"netcdf4\")\n"
   ]
  },
  {
   "cell_type": "code",
   "execution_count": null,
   "id": "4108f462",
   "metadata": {},
   "outputs": [],
   "source": [
    "gfs = xr.open_dataset(file, engine=\"netcdf4\")"
   ]
  },
  {
   "cell_type": "code",
   "execution_count": null,
   "id": "ad5dc901",
   "metadata": {},
   "outputs": [],
   "source": [
    "grib_file = \"data/gfs/gdas.t00z.sfluxgrbf000.grib2\"\n",
    "# 3. Open as a single concatenated Dataset\n",
    "ds_surface = xr.open_dataset(\n",
    "    grib_file,\n",
    "    engine=\"cfgrib\",\n",
    "    filter_by_keys={'typeOfLevel': 'surface'}, #can also add decode_coords=\"all\" for compatability with rioxarray if needed. \n",
    ")\n",
    "\n",
    "grib_file = \"data/gfs/gdas.t00z.sfluxgrbf000.grib2\"\n",
    "# 3. Open as a single concatenated Dataset\n",
    "ds_below = xr.open_dataset(\n",
    "    grib_file,\n",
    "    engine=\"cfgrib\",\n",
    "    filter_by_keys={'typeOfLevel': 'depthBelowLandLayer', 'level': 0.0},\n",
    ")"
   ]
  },
  {
   "cell_type": "code",
   "execution_count": null,
   "id": "eb911655",
   "metadata": {},
   "outputs": [],
   "source": [
    "ds_surface"
   ]
  },
  {
   "cell_type": "code",
   "execution_count": null,
   "id": "5a2c232f",
   "metadata": {},
   "outputs": [],
   "source": [
    "ds_surface_us = ds_surface.sel(longitude=slice((180-126.59)+180,(180-65.6)+180), latitude=slice(50.59, 24.4))\n",
    "ds_surface_us"
   ]
  },
  {
   "cell_type": "code",
   "execution_count": null,
   "id": "94838b25",
   "metadata": {},
   "outputs": [],
   "source": [
    "ds_surface_us[['wilt','fldcp','SUNSD', 'sltyp']]"
   ]
  },
  {
   "cell_type": "code",
   "execution_count": null,
   "id": "fecaaadc",
   "metadata": {},
   "outputs": [],
   "source": [
    "ds_below"
   ]
  },
  {
   "cell_type": "code",
   "execution_count": null,
   "id": "4512ec61",
   "metadata": {},
   "outputs": [],
   "source": [
    "ds_below_us = ds_below.sel(longitude=slice((180-126.59)+180,(180-65.6)+180), latitude=slice(50.59, 24.4))"
   ]
  },
  {
   "cell_type": "code",
   "execution_count": null,
   "id": "732bc3cd",
   "metadata": {},
   "outputs": [],
   "source": [
    "us_soilw = ds_below_us['soilw']"
   ]
  },
  {
   "cell_type": "code",
   "execution_count": null,
   "id": "5dffaa93",
   "metadata": {},
   "outputs": [],
   "source": [
    "us_soilw_masked = us_soilw.where(us_soilw != us_soilw.attrs['GRIB_missingValue']) # Remove the missing values (like ocean, etc) so plots are better"
   ]
  },
  {
   "cell_type": "code",
   "execution_count": null,
   "id": "1f24113a",
   "metadata": {},
   "outputs": [],
   "source": [
    "us_soilw_masked"
   ]
  },
  {
   "cell_type": "code",
   "execution_count": null,
   "id": "d894519e",
   "metadata": {},
   "outputs": [],
   "source": [
    "us_soilw_surface_masked = us_soilw_masked.sel(depthBelowLandLayer='0.')"
   ]
  },
  {
   "cell_type": "code",
   "execution_count": null,
   "id": "612b337d",
   "metadata": {},
   "outputs": [],
   "source": [
    "us_soilw_surface_masked.plot()"
   ]
  },
  {
   "cell_type": "markdown",
   "id": "9470e1b9",
   "metadata": {},
   "source": [
    "Would I want to use something like ds.time.dt.floor(\"D\") to resample everything back to the zero hour of the day? I guess this is a good way to aggregate data from different hours into one day. Maybe if I pull two 6 hourly forecasts per day?"
   ]
  }
 ],
 "metadata": {
  "kernelspec": {
   "display_name": ".venv",
   "language": "python",
   "name": "python3"
  },
  "language_info": {
   "codemirror_mode": {
    "name": "ipython",
    "version": 3
   },
   "file_extension": ".py",
   "mimetype": "text/x-python",
   "name": "python",
   "nbconvert_exporter": "python",
   "pygments_lexer": "ipython3",
   "version": "3.13.2"
  }
 },
 "nbformat": 4,
 "nbformat_minor": 5
}
