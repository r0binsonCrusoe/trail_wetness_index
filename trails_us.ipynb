{
 "cells": [
  {
   "cell_type": "code",
   "execution_count": 1,
   "id": "7049a414",
   "metadata": {},
   "outputs": [],
   "source": [
    "from pyrosm import OSM\n",
    "import pandas as pd\n",
    "import geopandas as gpd\n",
    "from pathlib import Path\n",
    "import math"
   ]
  },
  {
   "cell_type": "code",
   "execution_count": 6,
   "id": "18f6565c",
   "metadata": {},
   "outputs": [],
   "source": [
    "path = \"data/processed/us_trails.gpkg\"\n",
    "\n",
    "us_trails = gpd.read_file(path)"
   ]
  },
  {
   "cell_type": "code",
   "execution_count": 41,
   "id": "8c155e3f",
   "metadata": {},
   "outputs": [
    {
     "data": {
      "text/html": [
       "<div>\n",
       "<style scoped>\n",
       "    .dataframe tbody tr th:only-of-type {\n",
       "        vertical-align: middle;\n",
       "    }\n",
       "\n",
       "    .dataframe tbody tr th {\n",
       "        vertical-align: top;\n",
       "    }\n",
       "\n",
       "    .dataframe thead th {\n",
       "        text-align: right;\n",
       "    }\n",
       "</style>\n",
       "<table border=\"1\" class=\"dataframe\">\n",
       "  <thead>\n",
       "    <tr style=\"text-align: right;\">\n",
       "      <th></th>\n",
       "      <th>id</th>\n",
       "      <th>tags</th>\n",
       "      <th>osm_type</th>\n",
       "      <th>geometry</th>\n",
       "    </tr>\n",
       "  </thead>\n",
       "  <tbody>\n",
       "    <tr>\n",
       "      <th>0</th>\n",
       "      <td>14530744256</td>\n",
       "      <td>{\"distance\":\"37\",\"incline\":\"down\",\"name\":\"Moun...</td>\n",
       "      <td>relation</td>\n",
       "      <td>MULTILINESTRING ((-149.90819 61.2061, -149.908...</td>\n",
       "    </tr>\n",
       "    <tr>\n",
       "      <th>1</th>\n",
       "      <td>46410887</td>\n",
       "      <td>{\"visible\":false,\"access\":\"yes\",\"highway\":\"pat...</td>\n",
       "      <td>way</td>\n",
       "      <td>MULTILINESTRING ((-111.04677 32.20534, -111.04...</td>\n",
       "    </tr>\n",
       "    <tr>\n",
       "      <th>2</th>\n",
       "      <td>46411480</td>\n",
       "      <td>{\"visible\":false,\"highway\":\"path\",\"mtb:scale:i...</td>\n",
       "      <td>way</td>\n",
       "      <td>MULTILINESTRING ((-111.04934 32.194, -111.0492...</td>\n",
       "    </tr>\n",
       "    <tr>\n",
       "      <th>3</th>\n",
       "      <td>46414655</td>\n",
       "      <td>{\"visible\":false,\"highway\":\"path\",\"mtb:scale:i...</td>\n",
       "      <td>way</td>\n",
       "      <td>MULTILINESTRING ((-111.04437 32.19923, -111.04...</td>\n",
       "    </tr>\n",
       "    <tr>\n",
       "      <th>4</th>\n",
       "      <td>46414817</td>\n",
       "      <td>{\"visible\":false,\"highway\":\"path\"}</td>\n",
       "      <td>way</td>\n",
       "      <td>MULTILINESTRING ((-111.0806 32.20447, -111.080...</td>\n",
       "    </tr>\n",
       "  </tbody>\n",
       "</table>\n",
       "</div>"
      ],
      "text/plain": [
       "            id                                               tags  osm_type  \\\n",
       "0  14530744256  {\"distance\":\"37\",\"incline\":\"down\",\"name\":\"Moun...  relation   \n",
       "1     46410887  {\"visible\":false,\"access\":\"yes\",\"highway\":\"pat...       way   \n",
       "2     46411480  {\"visible\":false,\"highway\":\"path\",\"mtb:scale:i...       way   \n",
       "3     46414655  {\"visible\":false,\"highway\":\"path\",\"mtb:scale:i...       way   \n",
       "4     46414817                 {\"visible\":false,\"highway\":\"path\"}       way   \n",
       "\n",
       "                                            geometry  \n",
       "0  MULTILINESTRING ((-149.90819 61.2061, -149.908...  \n",
       "1  MULTILINESTRING ((-111.04677 32.20534, -111.04...  \n",
       "2  MULTILINESTRING ((-111.04934 32.194, -111.0492...  \n",
       "3  MULTILINESTRING ((-111.04437 32.19923, -111.04...  \n",
       "4  MULTILINESTRING ((-111.0806 32.20447, -111.080...  "
      ]
     },
     "execution_count": 41,
     "metadata": {},
     "output_type": "execute_result"
    }
   ],
   "source": [
    "us_trails.head()"
   ]
  },
  {
   "cell_type": "code",
   "execution_count": 7,
   "id": "c7e296ac",
   "metadata": {},
   "outputs": [
    {
     "data": {
      "text/html": [
       "<div>\n",
       "<style scoped>\n",
       "    .dataframe tbody tr th:only-of-type {\n",
       "        vertical-align: middle;\n",
       "    }\n",
       "\n",
       "    .dataframe tbody tr th {\n",
       "        vertical-align: top;\n",
       "    }\n",
       "\n",
       "    .dataframe thead th {\n",
       "        text-align: right;\n",
       "    }\n",
       "</style>\n",
       "<table border=\"1\" class=\"dataframe\">\n",
       "  <thead>\n",
       "    <tr style=\"text-align: right;\">\n",
       "      <th></th>\n",
       "      <th>id</th>\n",
       "      <th>tags</th>\n",
       "      <th>osm_type</th>\n",
       "      <th>geometry</th>\n",
       "    </tr>\n",
       "  </thead>\n",
       "  <tbody>\n",
       "    <tr>\n",
       "      <th>108386</th>\n",
       "      <td>98455848823</td>\n",
       "      <td>{\"colour\":\"blue\",\"distance\":\"1.1-mile\",\"name\":...</td>\n",
       "      <td>relation</td>\n",
       "      <td>MULTILINESTRING ((-73.2448 40.87663, -73.24506...</td>\n",
       "    </tr>\n",
       "    <tr>\n",
       "      <th>108387</th>\n",
       "      <td>98474965069</td>\n",
       "      <td>{\"colour\":\"yellow\",\"name\":\"Chipmunk Loop Trail\"}</td>\n",
       "      <td>relation</td>\n",
       "      <td>LINESTRING (-73.20286 40.86548, -73.20274 40.8...</td>\n",
       "    </tr>\n",
       "    <tr>\n",
       "      <th>108388</th>\n",
       "      <td>98494081316</td>\n",
       "      <td>{\"colour\":\"blue\",\"name\":\"Upper River Trail\"}</td>\n",
       "      <td>relation</td>\n",
       "      <td>LINESTRING (-73.20259 40.86481, -73.20255 40.8...</td>\n",
       "    </tr>\n",
       "    <tr>\n",
       "      <th>108389</th>\n",
       "      <td>98513197564</td>\n",
       "      <td>{\"colour\":\"red\",\"name\":\"Lower River Trail\"}</td>\n",
       "      <td>relation</td>\n",
       "      <td>LINESTRING (-73.20341 40.86423, -73.20332 40.8...</td>\n",
       "    </tr>\n",
       "    <tr>\n",
       "      <th>108390</th>\n",
       "      <td>99029374175</td>\n",
       "      <td>{\"colour\":\"yellow\",\"name\":\"King's Lane\",\"signe...</td>\n",
       "      <td>relation</td>\n",
       "      <td>LINESTRING (-74.20293 41.74495, -74.20293 41.7...</td>\n",
       "    </tr>\n",
       "  </tbody>\n",
       "</table>\n",
       "</div>"
      ],
      "text/plain": [
       "                 id                                               tags  \\\n",
       "108386  98455848823  {\"colour\":\"blue\",\"distance\":\"1.1-mile\",\"name\":...   \n",
       "108387  98474965069   {\"colour\":\"yellow\",\"name\":\"Chipmunk Loop Trail\"}   \n",
       "108388  98494081316       {\"colour\":\"blue\",\"name\":\"Upper River Trail\"}   \n",
       "108389  98513197564        {\"colour\":\"red\",\"name\":\"Lower River Trail\"}   \n",
       "108390  99029374175  {\"colour\":\"yellow\",\"name\":\"King's Lane\",\"signe...   \n",
       "\n",
       "        osm_type                                           geometry  \n",
       "108386  relation  MULTILINESTRING ((-73.2448 40.87663, -73.24506...  \n",
       "108387  relation  LINESTRING (-73.20286 40.86548, -73.20274 40.8...  \n",
       "108388  relation  LINESTRING (-73.20259 40.86481, -73.20255 40.8...  \n",
       "108389  relation  LINESTRING (-73.20341 40.86423, -73.20332 40.8...  \n",
       "108390  relation  LINESTRING (-74.20293 41.74495, -74.20293 41.7...  "
      ]
     },
     "execution_count": 7,
     "metadata": {},
     "output_type": "execute_result"
    }
   ],
   "source": [
    "us_trails.tail()"
   ]
  },
  {
   "cell_type": "code",
   "execution_count": 9,
   "id": "234fd357",
   "metadata": {},
   "outputs": [
    {
     "data": {
      "text/plain": [
       "(108391, 4)"
      ]
     },
     "execution_count": 9,
     "metadata": {},
     "output_type": "execute_result"
    }
   ],
   "source": [
    "us_trails.shape"
   ]
  },
  {
   "cell_type": "code",
   "execution_count": 13,
   "id": "17f6e746",
   "metadata": {},
   "outputs": [],
   "source": [
    "sc_trails = gpd.read_file(\"data/processed/sc_trails_original.gpkg\")"
   ]
  },
  {
   "cell_type": "code",
   "execution_count": 16,
   "id": "713ecfb7",
   "metadata": {},
   "outputs": [
    {
     "data": {
      "text/html": [
       "<div>\n",
       "<style scoped>\n",
       "    .dataframe tbody tr th:only-of-type {\n",
       "        vertical-align: middle;\n",
       "    }\n",
       "\n",
       "    .dataframe tbody tr th {\n",
       "        vertical-align: top;\n",
       "    }\n",
       "\n",
       "    .dataframe thead th {\n",
       "        text-align: right;\n",
       "    }\n",
       "</style>\n",
       "<table border=\"1\" class=\"dataframe\">\n",
       "  <thead>\n",
       "    <tr style=\"text-align: right;\">\n",
       "      <th></th>\n",
       "      <th>id</th>\n",
       "      <th>tags</th>\n",
       "      <th>osm_type</th>\n",
       "      <th>geometry</th>\n",
       "    </tr>\n",
       "  </thead>\n",
       "  <tbody>\n",
       "    <tr>\n",
       "      <th>0</th>\n",
       "      <td>12160066</td>\n",
       "      <td>{\"visible\":false,\"access\":\"yes\",\"bicycle\":\"des...</td>\n",
       "      <td>way</td>\n",
       "      <td>MULTILINESTRING ((-80.02071 32.78838, -80.0194...</td>\n",
       "    </tr>\n",
       "    <tr>\n",
       "      <th>1</th>\n",
       "      <td>12390835</td>\n",
       "      <td>{\"visible\":false,\"foot\":\"designated\",\"highway\"...</td>\n",
       "      <td>way</td>\n",
       "      <td>MULTILINESTRING ((-82.61195 35.08983, -82.6119...</td>\n",
       "    </tr>\n",
       "    <tr>\n",
       "      <th>2</th>\n",
       "      <td>12394512</td>\n",
       "      <td>{\"visible\":false,\"bicycle\":\"designated\",\"foot\"...</td>\n",
       "      <td>way</td>\n",
       "      <td>MULTILINESTRING ((-82.46397 34.99163, -82.464 ...</td>\n",
       "    </tr>\n",
       "    <tr>\n",
       "      <th>3</th>\n",
       "      <td>12461637</td>\n",
       "      <td>{\"visible\":false,\"bicycle\":\"yes\",\"foot\":\"yes\",...</td>\n",
       "      <td>way</td>\n",
       "      <td>MULTILINESTRING ((-82.40335 34.9447, -82.40315...</td>\n",
       "    </tr>\n",
       "    <tr>\n",
       "      <th>4</th>\n",
       "      <td>12553112</td>\n",
       "      <td>{\"visible\":false,\"alt_name\":\"Park Loop Trail\",...</td>\n",
       "      <td>way</td>\n",
       "      <td>MULTILINESTRING ((-81.38068 35.14517, -81.3807...</td>\n",
       "    </tr>\n",
       "  </tbody>\n",
       "</table>\n",
       "</div>"
      ],
      "text/plain": [
       "         id                                               tags osm_type  \\\n",
       "0  12160066  {\"visible\":false,\"access\":\"yes\",\"bicycle\":\"des...      way   \n",
       "1  12390835  {\"visible\":false,\"foot\":\"designated\",\"highway\"...      way   \n",
       "2  12394512  {\"visible\":false,\"bicycle\":\"designated\",\"foot\"...      way   \n",
       "3  12461637  {\"visible\":false,\"bicycle\":\"yes\",\"foot\":\"yes\",...      way   \n",
       "4  12553112  {\"visible\":false,\"alt_name\":\"Park Loop Trail\",...      way   \n",
       "\n",
       "                                            geometry  \n",
       "0  MULTILINESTRING ((-80.02071 32.78838, -80.0194...  \n",
       "1  MULTILINESTRING ((-82.61195 35.08983, -82.6119...  \n",
       "2  MULTILINESTRING ((-82.46397 34.99163, -82.464 ...  \n",
       "3  MULTILINESTRING ((-82.40335 34.9447, -82.40315...  \n",
       "4  MULTILINESTRING ((-81.38068 35.14517, -81.3807...  "
      ]
     },
     "execution_count": 16,
     "metadata": {},
     "output_type": "execute_result"
    }
   ],
   "source": [
    "sc_trails.head()"
   ]
  },
  {
   "cell_type": "code",
   "execution_count": 17,
   "id": "285ff69d",
   "metadata": {},
   "outputs": [],
   "source": [
    "updated_trails = pd.concat([us_trails, sc_trails], ignore_index=True)"
   ]
  },
  {
   "cell_type": "code",
   "execution_count": 18,
   "id": "b4ab6b17",
   "metadata": {},
   "outputs": [
    {
     "data": {
      "text/plain": [
       "(49514, 4)"
      ]
     },
     "execution_count": 18,
     "metadata": {},
     "output_type": "execute_result"
    }
   ],
   "source": [
    "updated_trails.shape"
   ]
  },
  {
   "cell_type": "code",
   "execution_count": 19,
   "id": "708fb9e8",
   "metadata": {},
   "outputs": [
    {
     "data": {
      "text/html": [
       "<div>\n",
       "<style scoped>\n",
       "    .dataframe tbody tr th:only-of-type {\n",
       "        vertical-align: middle;\n",
       "    }\n",
       "\n",
       "    .dataframe tbody tr th {\n",
       "        vertical-align: top;\n",
       "    }\n",
       "\n",
       "    .dataframe thead th {\n",
       "        text-align: right;\n",
       "    }\n",
       "</style>\n",
       "<table border=\"1\" class=\"dataframe\">\n",
       "  <thead>\n",
       "    <tr style=\"text-align: right;\">\n",
       "      <th></th>\n",
       "      <th>id</th>\n",
       "      <th>tags</th>\n",
       "      <th>osm_type</th>\n",
       "      <th>geometry</th>\n",
       "    </tr>\n",
       "  </thead>\n",
       "  <tbody>\n",
       "    <tr>\n",
       "      <th>49509</th>\n",
       "      <td>1305160187</td>\n",
       "      <td>{\"visible\":false,\"foot\":\"yes\",\"highway\":\"path\"...</td>\n",
       "      <td>way</td>\n",
       "      <td>MULTILINESTRING ((-81.86966 34.86881, -81.8697...</td>\n",
       "    </tr>\n",
       "    <tr>\n",
       "      <th>49510</th>\n",
       "      <td>1305160188</td>\n",
       "      <td>{\"visible\":false,\"bicycle\":\"yes\",\"foot\":\"yes\",...</td>\n",
       "      <td>way</td>\n",
       "      <td>MULTILINESTRING ((-81.87273 34.86882, -81.8727...</td>\n",
       "    </tr>\n",
       "    <tr>\n",
       "      <th>49511</th>\n",
       "      <td>1305160189</td>\n",
       "      <td>{\"visible\":false,\"foot\":\"yes\",\"highway\":\"path\"...</td>\n",
       "      <td>way</td>\n",
       "      <td>MULTILINESTRING ((-81.8404 34.85907, -81.84044...</td>\n",
       "    </tr>\n",
       "    <tr>\n",
       "      <th>49512</th>\n",
       "      <td>1305788727</td>\n",
       "      <td>{\"visible\":false,\"foot\":\"yes\",\"highway\":\"path\"...</td>\n",
       "      <td>way</td>\n",
       "      <td>MULTILINESTRING ((-81.85115 34.86106, -81.8513...</td>\n",
       "    </tr>\n",
       "    <tr>\n",
       "      <th>49513</th>\n",
       "      <td>27261536412</td>\n",
       "      <td>{\"mtb:scale\":\"1\",\"name\":\"Sliding Rock Creek Mo...</td>\n",
       "      <td>relation</td>\n",
       "      <td>MULTILINESTRING ((-82.37708 34.83553, -82.3770...</td>\n",
       "    </tr>\n",
       "  </tbody>\n",
       "</table>\n",
       "</div>"
      ],
      "text/plain": [
       "                id                                               tags  \\\n",
       "49509   1305160187  {\"visible\":false,\"foot\":\"yes\",\"highway\":\"path\"...   \n",
       "49510   1305160188  {\"visible\":false,\"bicycle\":\"yes\",\"foot\":\"yes\",...   \n",
       "49511   1305160189  {\"visible\":false,\"foot\":\"yes\",\"highway\":\"path\"...   \n",
       "49512   1305788727  {\"visible\":false,\"foot\":\"yes\",\"highway\":\"path\"...   \n",
       "49513  27261536412  {\"mtb:scale\":\"1\",\"name\":\"Sliding Rock Creek Mo...   \n",
       "\n",
       "       osm_type                                           geometry  \n",
       "49509       way  MULTILINESTRING ((-81.86966 34.86881, -81.8697...  \n",
       "49510       way  MULTILINESTRING ((-81.87273 34.86882, -81.8727...  \n",
       "49511       way  MULTILINESTRING ((-81.8404 34.85907, -81.84044...  \n",
       "49512       way  MULTILINESTRING ((-81.85115 34.86106, -81.8513...  \n",
       "49513  relation  MULTILINESTRING ((-82.37708 34.83553, -82.3770...  "
      ]
     },
     "execution_count": 19,
     "metadata": {},
     "output_type": "execute_result"
    }
   ],
   "source": [
    "updated_trails.tail()"
   ]
  },
  {
   "cell_type": "code",
   "execution_count": 20,
   "id": "292ec5b5",
   "metadata": {},
   "outputs": [],
   "source": [
    "updated_trails.to_file(\n",
    "    \"data/processed/us_trails.gpkg\", driver=\"GPKG\", mode=\"a\"\n",
    ")"
   ]
  },
  {
   "cell_type": "code",
   "execution_count": 2,
   "id": "6ca0bd3f",
   "metadata": {},
   "outputs": [],
   "source": [
    "counties = gpd.read_file(\"data/cb_2018_us_county_500k\")"
   ]
  },
  {
   "cell_type": "code",
   "execution_count": 31,
   "id": "3a910c95",
   "metadata": {},
   "outputs": [],
   "source": [
    "counties.head()\n",
    "tx_counties = counties[counties['STATEFP'] == '48']"
   ]
  },
  {
   "cell_type": "code",
   "execution_count": 34,
   "id": "2937436d",
   "metadata": {},
   "outputs": [
    {
     "data": {
      "text/html": [
       "<div>\n",
       "<style scoped>\n",
       "    .dataframe tbody tr th:only-of-type {\n",
       "        vertical-align: middle;\n",
       "    }\n",
       "\n",
       "    .dataframe tbody tr th {\n",
       "        vertical-align: top;\n",
       "    }\n",
       "\n",
       "    .dataframe thead th {\n",
       "        text-align: right;\n",
       "    }\n",
       "</style>\n",
       "<table border=\"1\" class=\"dataframe\">\n",
       "  <thead>\n",
       "    <tr style=\"text-align: right;\">\n",
       "      <th></th>\n",
       "      <th>STATEFP</th>\n",
       "      <th>COUNTYFP</th>\n",
       "      <th>COUNTYNS</th>\n",
       "      <th>AFFGEOID</th>\n",
       "      <th>GEOID</th>\n",
       "      <th>NAME</th>\n",
       "      <th>LSAD</th>\n",
       "      <th>ALAND</th>\n",
       "      <th>AWATER</th>\n",
       "      <th>geometry</th>\n",
       "    </tr>\n",
       "  </thead>\n",
       "  <tbody>\n",
       "    <tr>\n",
       "      <th>102</th>\n",
       "      <td>48</td>\n",
       "      <td>011</td>\n",
       "      <td>01383791</td>\n",
       "      <td>0500000US48011</td>\n",
       "      <td>48011</td>\n",
       "      <td>Armstrong</td>\n",
       "      <td>06</td>\n",
       "      <td>2354581675</td>\n",
       "      <td>12219583</td>\n",
       "      <td>POLYGON ((-101.6294 34.75006, -101.62806 34.83...</td>\n",
       "    </tr>\n",
       "    <tr>\n",
       "      <th>103</th>\n",
       "      <td>48</td>\n",
       "      <td>025</td>\n",
       "      <td>01383798</td>\n",
       "      <td>0500000US48025</td>\n",
       "      <td>48025</td>\n",
       "      <td>Bee</td>\n",
       "      <td>06</td>\n",
       "      <td>2279809496</td>\n",
       "      <td>246409</td>\n",
       "      <td>POLYGON ((-98.08976 28.66298, -98.00525 28.690...</td>\n",
       "    </tr>\n",
       "    <tr>\n",
       "      <th>104</th>\n",
       "      <td>48</td>\n",
       "      <td>035</td>\n",
       "      <td>01383803</td>\n",
       "      <td>0500000US48035</td>\n",
       "      <td>48035</td>\n",
       "      <td>Bosque</td>\n",
       "      <td>06</td>\n",
       "      <td>2545908079</td>\n",
       "      <td>50666115</td>\n",
       "      <td>POLYGON ((-98.00068 32.02028, -97.99191 32.024...</td>\n",
       "    </tr>\n",
       "    <tr>\n",
       "      <th>105</th>\n",
       "      <td>48</td>\n",
       "      <td>053</td>\n",
       "      <td>01383812</td>\n",
       "      <td>0500000US48053</td>\n",
       "      <td>48053</td>\n",
       "      <td>Burnet</td>\n",
       "      <td>06</td>\n",
       "      <td>2575134223</td>\n",
       "      <td>69922923</td>\n",
       "      <td>POLYGON ((-98.45924 31.01038, -98.45874 31.011...</td>\n",
       "    </tr>\n",
       "    <tr>\n",
       "      <th>106</th>\n",
       "      <td>48</td>\n",
       "      <td>055</td>\n",
       "      <td>01383813</td>\n",
       "      <td>0500000US48055</td>\n",
       "      <td>48055</td>\n",
       "      <td>Caldwell</td>\n",
       "      <td>06</td>\n",
       "      <td>1412150551</td>\n",
       "      <td>4973307</td>\n",
       "      <td>POLYGON ((-97.89707 29.86437, -97.89615 29.870...</td>\n",
       "    </tr>\n",
       "  </tbody>\n",
       "</table>\n",
       "</div>"
      ],
      "text/plain": [
       "    STATEFP COUNTYFP  COUNTYNS        AFFGEOID  GEOID       NAME LSAD  \\\n",
       "102      48      011  01383791  0500000US48011  48011  Armstrong   06   \n",
       "103      48      025  01383798  0500000US48025  48025        Bee   06   \n",
       "104      48      035  01383803  0500000US48035  48035     Bosque   06   \n",
       "105      48      053  01383812  0500000US48053  48053     Burnet   06   \n",
       "106      48      055  01383813  0500000US48055  48055   Caldwell   06   \n",
       "\n",
       "          ALAND    AWATER                                           geometry  \n",
       "102  2354581675  12219583  POLYGON ((-101.6294 34.75006, -101.62806 34.83...  \n",
       "103  2279809496    246409  POLYGON ((-98.08976 28.66298, -98.00525 28.690...  \n",
       "104  2545908079  50666115  POLYGON ((-98.00068 32.02028, -97.99191 32.024...  \n",
       "105  2575134223  69922923  POLYGON ((-98.45924 31.01038, -98.45874 31.011...  \n",
       "106  1412150551   4973307  POLYGON ((-97.89707 29.86437, -97.89615 29.870...  "
      ]
     },
     "execution_count": 34,
     "metadata": {},
     "output_type": "execute_result"
    }
   ],
   "source": [
    "tx_counties.head()"
   ]
  },
  {
   "cell_type": "code",
   "execution_count": 35,
   "id": "1c14954e",
   "metadata": {},
   "outputs": [],
   "source": [
    "tx_counties = tx_counties['geometry']"
   ]
  },
  {
   "cell_type": "code",
   "execution_count": 36,
   "id": "573c9c84",
   "metadata": {},
   "outputs": [
    {
     "data": {
      "text/plain": [
       "(254,)"
      ]
     },
     "execution_count": 36,
     "metadata": {},
     "output_type": "execute_result"
    }
   ],
   "source": [
    "tx_counties.shape"
   ]
  },
  {
   "cell_type": "code",
   "execution_count": 37,
   "id": "f2161250",
   "metadata": {},
   "outputs": [],
   "source": [
    "tx_counties.to_file(\n",
    "    \"data/processed/tx_counties.gpkg\", driver=\"GPKG\"\n",
    ")"
   ]
  },
  {
   "cell_type": "code",
   "execution_count": 4,
   "id": "e8779166",
   "metadata": {},
   "outputs": [],
   "source": [
    "data_dir = Path(\"data/trails\")\n",
    "results = []\n",
    "county_file = gpd.read_file(\"data/processed/ca_counties.gpkg\")\n",
    "counties = county_file['geometry']\n",
    "osm_file = \"data/trails/california-latest.osm.pbf\"\n",
    "trail_filter_mtb = {\"route\": [\"mtb\"]}"
   ]
  },
  {
   "cell_type": "code",
   "execution_count": null,
   "id": "b6a3e202",
   "metadata": {},
   "outputs": [],
   "source": [
    "#My Attemp\n",
    "\n",
    "start_lat = 25\n",
    "start_lon = -107\n",
    "end_lat = 32\n",
    "end_lon = -93 \n",
    "step = 2 \n",
    "lat_counter = 1\n",
    "lon_counter = 0\n",
    "a = step * lat_counter\n",
    "o = step * lon_counter\n",
    "x_min = start_lon\n",
    "y_min = start_lat\n",
    "x_max = start_lon + step\n",
    "y_max = start_lat + step\n",
    "\n",
    "\n",
    "bbox_list = [[start_lon, start_lat, start_lon, start_lat]]\n",
    "\n",
    "# Somehow need to loop through moving the bbox by latitutde (ie up to end lat), then by longitude (ie over one step, then up again), then over by lat again (until end lat).\n",
    "while lon_counter < math.ceil((abs(start_lon) - abs(end_lon)) / step): \n",
    "    bbox = [x_min, y_min, x_max, y_max]\n",
    "    bbox_list.append(bbox)\n",
    "    lon_counter += 1\n",
    "    y_min += o\n",
    "    y_max += o\n",
    "    \n",
    "    while lat_counter < math.ceil((end_lat - start_lat) / step): \n",
    "        bbox = [x_min, y_min, x_max, y_max]\n",
    "        bbox_list.append(bbox)\n",
    "        x_min += a\n",
    "        x_max += a\n",
    "        lat_counter += 1\n",
    "    \n",
    "    lat_counter = 1 #reset lat counter after it has gone through all the latitudes (so that it can go restart for the next \"column\")\n",
    "\n",
    "\n",
    "\n",
    "    \n"
   ]
  },
  {
   "cell_type": "code",
   "execution_count": 35,
   "id": "658ef013",
   "metadata": {},
   "outputs": [
    {
     "name": "stdout",
     "output_type": "stream",
     "text": [
      "[[-107, 25, -107, 25], [-107, 25, -105, 27], [-107, 25, -105, 27], [-107, 25, -105, 27], [-107, 25, -105, 27], [-107, 25, -105, 27], [-107, 25, -105, 27], [-107, 25, -105, 27], [-107, 25, -105, 27], [-107, 25, -105, 27], [-107, 25, -105, 27], [-107, 25, -105, 27], [-107, 25, -105, 27], [-107, 25, -105, 27], [-107, 25, -105, 27], [-107, 25, -105, 27], [-107, 25, -105, 27], [-107, 25, -105, 27], [-107, 25, -105, 27], [-107, 25, -105, 27], [-107, 25, -105, 27], [-107, 25, -105, 27], [-107, 25, -105, 27], [-107, 25, -105, 27], [-107, 25, -105, 27], [-107, 25, -105, 27], [-107, 25, -105, 27], [-107, 25, -105, 27], [-107, 25, -105, 27]]\n"
     ]
    }
   ],
   "source": [
    "print(bbox_list)"
   ]
  },
  {
   "cell_type": "code",
   "execution_count": 37,
   "id": "751fb9b2",
   "metadata": {},
   "outputs": [],
   "source": [
    "# ChatGPT\n",
    "import math\n",
    "from typing import List, Tuple\n",
    "\n",
    "def generate_bounding_boxes(\n",
    "    x_min: float,\n",
    "    y_min: float,\n",
    "    x_max: float,\n",
    "    y_max: float,\n",
    "    step: float\n",
    ") -> List[Tuple[float, float, float, float]]:\n",
    "    \"\"\"\n",
    "    Generate non-overlapping bounding boxes that cover the area defined by\n",
    "    (x_min, y_min, x_max, y_max). Boxes are generated from bottom-left to top-right.\n",
    "\n",
    "    Args:\n",
    "        x_min (float): Minimum longitude (west).\n",
    "        y_min (float): Minimum latitude (south).\n",
    "        x_max (float): Maximum longitude (east).\n",
    "        y_max (float): Maximum latitude (north).\n",
    "        step (float): Size of each bounding box in both lat and lon directions.\n",
    "\n",
    "    Returns:\n",
    "        List[Tuple[float, float, float, float]]: List of bounding boxes (x_min, y_min, x_max, y_max).\n",
    "    \"\"\"\n",
    "    bbox_list = []\n",
    "\n",
    "    # Number of steps in longitude and latitude directions\n",
    "    num_lon_steps = math.ceil((x_max - x_min) / step)\n",
    "    num_lat_steps = math.ceil((y_max - y_min) / step)\n",
    "\n",
    "    for i in range(num_lon_steps):\n",
    "        for j in range(num_lat_steps):\n",
    "            box_x_min = x_min + i * step\n",
    "            box_y_min = y_min + j * step\n",
    "            box_x_max = box_x_min + step\n",
    "            box_y_max = box_y_min + step\n",
    "            bbox_list.append((box_x_min, box_y_min, box_x_max, box_y_max))\n",
    "\n",
    "    return bbox_list\n",
    "    "
   ]
  },
  {
   "cell_type": "code",
   "execution_count": 38,
   "id": "55a7d226",
   "metadata": {},
   "outputs": [
    {
     "name": "stdout",
     "output_type": "stream",
     "text": [
      "BBox 1: (-107, 25, -105, 27)\n",
      "BBox 2: (-107, 27, -105, 29)\n",
      "BBox 3: (-107, 29, -105, 31)\n",
      "BBox 4: (-107, 31, -105, 33)\n",
      "BBox 5: (-105, 25, -103, 27)\n",
      "BBox 6: (-105, 27, -103, 29)\n",
      "BBox 7: (-105, 29, -103, 31)\n",
      "BBox 8: (-105, 31, -103, 33)\n",
      "BBox 9: (-103, 25, -101, 27)\n",
      "BBox 10: (-103, 27, -101, 29)\n",
      "BBox 11: (-103, 29, -101, 31)\n",
      "BBox 12: (-103, 31, -101, 33)\n",
      "BBox 13: (-101, 25, -99, 27)\n",
      "BBox 14: (-101, 27, -99, 29)\n",
      "BBox 15: (-101, 29, -99, 31)\n",
      "BBox 16: (-101, 31, -99, 33)\n",
      "BBox 17: (-99, 25, -97, 27)\n",
      "BBox 18: (-99, 27, -97, 29)\n",
      "BBox 19: (-99, 29, -97, 31)\n",
      "BBox 20: (-99, 31, -97, 33)\n",
      "BBox 21: (-97, 25, -95, 27)\n",
      "BBox 22: (-97, 27, -95, 29)\n",
      "BBox 23: (-97, 29, -95, 31)\n",
      "BBox 24: (-97, 31, -95, 33)\n",
      "BBox 25: (-95, 25, -93, 27)\n",
      "BBox 26: (-95, 27, -93, 29)\n",
      "BBox 27: (-95, 29, -93, 31)\n",
      "BBox 28: (-95, 31, -93, 33)\n"
     ]
    }
   ],
   "source": [
    "start_lon = -107\n",
    "start_lat = 25\n",
    "end_lon = -93\n",
    "end_lat = 32\n",
    "step = 2\n",
    "\n",
    "bboxes = generate_bounding_boxes(start_lon, start_lat, end_lon, end_lat, step)\n",
    "\n",
    "for i, bbox in enumerate(bboxes):\n",
    "    print(f\"BBox {i+1}: {bbox}\")"
   ]
  },
  {
   "cell_type": "code",
   "execution_count": 3,
   "id": "9a81d25b",
   "metadata": {},
   "outputs": [],
   "source": [
    "fips = {'06': 'CA', '12':'FL', '36':'NY', '37':'NC', '51':'VA'} #State FIPS:State\n",
    "\n",
    "for fip in fips:\n",
    "    state_counties = counties[counties['STATEFP'] == fip ]\n",
    "    state_counties = state_counties['geometry']\n",
    "    state_counties.to_file(f\"data/processed/{fips[fip]}_trails.gpkg\", driver=\"GPKG\")\n",
    "    "
   ]
  }
 ],
 "metadata": {
  "kernelspec": {
   "display_name": ".venv",
   "language": "python",
   "name": "python3"
  },
  "language_info": {
   "codemirror_mode": {
    "name": "ipython",
    "version": 3
   },
   "file_extension": ".py",
   "mimetype": "text/x-python",
   "name": "python",
   "nbconvert_exporter": "python",
   "pygments_lexer": "ipython3",
   "version": "3.13.2"
  }
 },
 "nbformat": 4,
 "nbformat_minor": 5
}
