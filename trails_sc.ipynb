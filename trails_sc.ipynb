{
 "cells": [
  {
   "cell_type": "code",
   "execution_count": null,
   "id": "0de16bad",
   "metadata": {},
   "outputs": [],
   "source": [
    "from pyrosm import OSM\n",
    "import pandas as pd\n",
    "import geopandas as gpd"
   ]
  },
  {
   "cell_type": "markdown",
   "id": "6b783592",
   "metadata": {},
   "source": [
    "It is proving very difficult to filter trails from OSM without getting far too little or far too much. I think I will need to get far too much, and then exclude things once it is a pandas data frame. The other option is to try filtering by what is in the \"JSON\" column, though I think I am partially already doing that. Another approach would be to do lots of narrow searches and add them all into the same gdf. That might be the easiest. "
   ]
  },
  {
   "cell_type": "code",
   "execution_count": null,
   "id": "c233860e",
   "metadata": {},
   "outputs": [],
   "source": [
    "pbf_path = \"data/trails/south-carolina-latest.osm.pbf\"\n",
    "\n",
    "trail_filter_mtb = {\"route\":[\"mtb\"]}\n",
    "\n",
    "osm = OSM(pbf_path) #use get_data function to pull directly from geofabrik\n",
    "\n",
    "trails_mtb = osm.get_data_by_custom_criteria(\n",
    "    custom_filter=trail_filter_mtb,\n",
    "    filter_type=\"keep\",\n",
    ")"
   ]
  },
  {
   "cell_type": "code",
   "execution_count": null,
   "id": "0d50700a",
   "metadata": {},
   "outputs": [],
   "source": [
    "trails_mtb_2 = osm.get_data_by_custom_criteria(\n",
    "    custom_filter={},\n",
    "    osm_keys_to_keep=[\"mtb:scale\"],\n",
    "    filter_type=\"keep\",\n",
    ")"
   ]
  },
  {
   "cell_type": "code",
   "execution_count": null,
   "id": "c1f68365",
   "metadata": {},
   "outputs": [],
   "source": [
    "trail_filter_hiking_1 = {}\n",
    "\n",
    "trails_hiking_1 = osm.get_data_by_custom_criteria(\n",
    "    osm_keys_to_keep=[\"sac_scale\", \"osmc:symbol\"],\n",
    "    custom_filter=trail_filter_hiking_1,\n",
    "    filter_type=\"keep\",\n",
    ")"
   ]
  },
  {
   "cell_type": "code",
   "execution_count": null,
   "id": "67a7d065",
   "metadata": {},
   "outputs": [],
   "source": [
    "trail_filter_hiking_2 = {\"route\":[\"hiking\"]}\n",
    "\n",
    "trails_hiking_2 = osm.get_data_by_custom_criteria(\n",
    "    custom_filter=trail_filter_hiking_2,\n",
    "    filter_type=\"keep\",)"
   ]
  },
  {
   "cell_type": "code",
   "execution_count": null,
   "id": "5cc3bafd",
   "metadata": {},
   "outputs": [],
   "source": [
    "trails_mtb_combined = pd.concat([trails_mtb, trails_mtb_2], ignore_index=True)\n",
    "# trails_mtb_combined.head()"
   ]
  },
  {
   "cell_type": "code",
   "execution_count": null,
   "id": "9fd19302",
   "metadata": {},
   "outputs": [],
   "source": [
    "trails_mtb_combined.drop_duplicates()"
   ]
  },
  {
   "cell_type": "code",
   "execution_count": null,
   "id": "3f0a94e6",
   "metadata": {},
   "outputs": [],
   "source": [
    "trails_hiking_combined = pd.concat([trails_hiking_1, trails_hiking_2], ignore_index=True)\n",
    "# trails_hiking_combined.head()"
   ]
  },
  {
   "cell_type": "code",
   "execution_count": null,
   "id": "2039491b",
   "metadata": {},
   "outputs": [],
   "source": [
    "all_trails = pd.concat([trails_hiking_combined, trails_mtb_combined], ignore_index=True)\n",
    "all_trails.drop_duplicates()\n",
    "# all_trails.head()"
   ]
  },
  {
   "cell_type": "code",
   "execution_count": null,
   "id": "ff9ce161",
   "metadata": {},
   "outputs": [],
   "source": [
    "all_trails['tags']"
   ]
  },
  {
   "cell_type": "code",
   "execution_count": null,
   "id": "171e07bf",
   "metadata": {},
   "outputs": [],
   "source": [
    "\n",
    "def trail_name(tags):\n",
    "    name = tags.get('name')"
   ]
  },
  {
   "cell_type": "code",
   "execution_count": null,
   "id": "7ff808be",
   "metadata": {},
   "outputs": [],
   "source": [
    "m = all_trails.explore()\n",
    "\n",
    "m"
   ]
  },
  {
   "cell_type": "markdown",
   "id": "9bf889be",
   "metadata": {},
   "source": [
    "This method of stacking different filters into one geodataframe seemed to give the best results. I'll move forward with this. "
   ]
  },
  {
   "cell_type": "code",
   "execution_count": null,
   "id": "bfb10a8a",
   "metadata": {},
   "outputs": [],
   "source": [
    "all_trails_5070 = all_trails.to_crs(epsg=5070) #reprojecting to the same as the xarray datasets. Should be reprojected before doing the buffer. "
   ]
  },
  {
   "cell_type": "code",
   "execution_count": null,
   "id": "2f552795",
   "metadata": {},
   "outputs": [],
   "source": [
    "all_trails_buffered = all_trails_5070.buffer(200) #200 meter buffer. Returns polygons. \n",
    "all_trails_buffered"
   ]
  },
  {
   "cell_type": "code",
   "execution_count": null,
   "id": "0ee78129",
   "metadata": {},
   "outputs": [],
   "source": [
    "all_trails['buffered'] = all_trails_buffered\n",
    "sc_trails_original = all_trails[['id', 'tags', 'osm_type', 'geometry']]\n",
    "sc_trails_original.to_file(\"data/trails/sc_trails_original.gpkg\", driver=\"GPKG\")"
   ]
  },
  {
   "cell_type": "code",
   "execution_count": null,
   "id": "49013b71",
   "metadata": {},
   "outputs": [],
   "source": [
    "sc_trails_buffered = all_trails[['id', 'tags', 'osm_type', 'buffered']]\n",
    "sc_trails_buffered.set_geometry(\"buffered\", inplace=True)\n",
    "sc_trails_buffered.to_file(\"data/trails/sc_trails_buffered.gpkg\", driver=\"GPKG\")"
   ]
  },
  {
   "cell_type": "code",
   "execution_count": null,
   "id": "86abecb3",
   "metadata": {},
   "outputs": [],
   "source": [
    "sc_trails_buffered"
   ]
  },
  {
   "cell_type": "code",
   "execution_count": null,
   "id": "a8776c42",
   "metadata": {},
   "outputs": [],
   "source": [
    "m = sc_trails_buffered.explore()\n",
    "\n",
    "m"
   ]
  },
  {
   "cell_type": "markdown",
   "id": "71d4999d",
   "metadata": {},
   "source": [
    "Perform a unary union or dissolve the overlapping polygons. Then I have to figure out how to tag that polygon (or keep original attributes) based on the trail/trail network name. Need a function that can pull the name of the trail out of the tags column, then group them somehow, or determine which has the trail network name. \n",
    "\n",
    "First layer - Pull Trail name from tags if it is there. \n",
    "Second layer - Use land use (or whatever is on the basemap ie Paris Mountain State Park polygon) to give buffer polygons a label. Then could list all trail names within that area. Or click to get individual trails. \n"
   ]
  },
  {
   "cell_type": "code",
   "execution_count": null,
   "id": "f97cbb46",
   "metadata": {},
   "outputs": [],
   "source": [
    "\n"
   ]
  }
 ],
 "metadata": {
  "kernelspec": {
   "display_name": ".venv",
   "language": "python",
   "name": "python3"
  },
  "language_info": {
   "codemirror_mode": {
    "name": "ipython",
    "version": 3
   },
   "file_extension": ".py",
   "mimetype": "text/x-python",
   "name": "python",
   "nbconvert_exporter": "python",
   "pygments_lexer": "ipython3",
   "version": "3.13.2"
  }
 },
 "nbformat": 4,
 "nbformat_minor": 5
}
