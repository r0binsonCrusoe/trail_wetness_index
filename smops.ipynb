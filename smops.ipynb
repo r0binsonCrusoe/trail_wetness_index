{
 "cells": [
  {
   "cell_type": "code",
   "execution_count": 8,
   "id": "780e96a6",
   "metadata": {},
   "outputs": [],
   "source": [
    "import requests\n",
    "from datetime import datetime, timedelta, timezone\n"
   ]
  },
  {
   "cell_type": "code",
   "execution_count": 13,
   "id": "b5911f9f",
   "metadata": {},
   "outputs": [
    {
     "name": "stdout",
     "output_type": "stream",
     "text": [
      "Failed to retrieve data. HTTP Status Code: 400, b'{\"errorCode\":400,\"errorMessage\":\"Bad Request\",\"errors\":[{\"field\":\"dataset\",\"message\":\"Invalid dataset. Valid characters are letters, numbers, and hyphens(\\'-\\').\",\"value\":\"NPR-SMOPS-CMAP-archv_v4r0_blend\"}]}'\n"
     ]
    }
   ],
   "source": [
    "#Base URL for the NCEI Data Service API\n",
    "base_url = 'https://www.ncei.noaa.gov/access/services/data/v1'\n",
    "\n",
    "# Define the dataset identifier for SMOPS\n",
    "dataset = 'NPR-SMOPS-CMAP-archv_v4r0_blend'  # from NOAA CLASS site. \n",
    "\n",
    "# Define the date range for the latest data (e.g., yesterday)\n",
    "end_date = datetime.now(timezone.utc)\n",
    "start_date = end_date - timedelta(days=1)\n",
    "\n",
    "# Define the parameters for the API request\n",
    "params = {\n",
    "    'dataset': dataset,\n",
    "    'startDate': start_date.isoformat(),\n",
    "    'endDate': end_date.isoformat(),\n",
    "    'format': 'netcdf',\n",
    "    'bbox':(50.59, -126.59, 24.4, -65.6),\n",
    "    'includeAttributes': True,\n",
    "    # Add other parameters as needed, such as 'stations', 'dataTypes', etc.\n",
    "}\n",
    "\n",
    "# Send the GET request to the API\n",
    "response = requests.get(base_url, params=params)\n",
    "\n",
    "# Check if the request was successful\n",
    "if response.status_code == 200:\n",
    "    # Save the response content to a CSV file\n",
    "    with open(f'smops_{end_date}.netcdf', 'w') as file:\n",
    "        file.write(response)\n",
    "    print('SMOPS data has been saved to smops_latest_data.csv')\n",
    "else:\n",
    "    print(f'Failed to retrieve data. HTTP Status Code: {response.status_code}, {response.content}')\n"
   ]
  }
 ],
 "metadata": {
  "kernelspec": {
   "display_name": ".venv",
   "language": "python",
   "name": "python3"
  },
  "language_info": {
   "codemirror_mode": {
    "name": "ipython",
    "version": 3
   },
   "file_extension": ".py",
   "mimetype": "text/x-python",
   "name": "python",
   "nbconvert_exporter": "python",
   "pygments_lexer": "ipython3",
   "version": "3.13.2"
  }
 },
 "nbformat": 4,
 "nbformat_minor": 5
}
