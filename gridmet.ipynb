{
 "cells": [
  {
   "cell_type": "markdown",
   "id": "dd09a085",
   "metadata": {},
   "source": [
    "Access GridMET data from Microsoft Planetary computer using their Stac API. File is Zarr. Access only the data needed, and the variables needed (precipitation only for now). \n",
    "\n",
    "Just realized Microsoft Planetary computer only has data through 2020 for this...."
   ]
  },
  {
   "cell_type": "code",
   "execution_count": null,
   "id": "9dbc236e",
   "metadata": {},
   "outputs": [],
   "source": [
    "import pystac_client\n",
    "import planetary_computer\n",
    "import xarray as xr"
   ]
  },
  {
   "cell_type": "code",
   "execution_count": null,
   "id": "39d84e07",
   "metadata": {},
   "outputs": [],
   "source": [
    "catalog = pystac_client.Client.open(\n",
    "    \"https://planetarycomputer.microsoft.com/api/stac/v1\",\n",
    "    modifier=planetary_computer.sign_inplace,\n",
    ")"
   ]
  },
  {
   "cell_type": "code",
   "execution_count": null,
   "id": "22695d11",
   "metadata": {},
   "outputs": [],
   "source": [
    "time_range = \"2025-06-24\"\n",
    "bbox = [-126, 24, -65, 50]\n",
    "\n",
    "asset = catalog.get_collection(\"gridmet\").assets[\"zarr-abfs\"]\n",
    "asset\n"
   ]
  },
  {
   "cell_type": "code",
   "execution_count": null,
   "id": "f4cb8380",
   "metadata": {},
   "outputs": [],
   "source": [
    "ds = xr.open_zarr(\n",
    "    asset.href,\n",
    "    storage_options=asset.extra_fields[\"xarray:storage_options\"],\n",
    "    **asset.extra_fields[\"xarray:open_kwargs\"]\n",
    ")\n",
    "ds"
   ]
  },
  {
   "cell_type": "markdown",
   "id": "aec58b6a",
   "metadata": {},
   "source": [
    "Pulled the 06/24 file manually from the GridMET site (on 06/25). \n",
    "\n",
    "Notes:\n",
    "* Metadata says that the day runs from midnight to midnight Mountain Standard time. This leads to the differences between this and GFS/PRISM. \n",
    "* Could use Pygridmet package to access the data, but it seems like it might be easier to just use the netcdf file. \n"
   ]
  },
  {
   "cell_type": "code",
   "execution_count": null,
   "id": "62fbbf6d",
   "metadata": {},
   "outputs": [],
   "source": [
    "import xarray as xr\n",
    "\n",
    "ds = xr.open_dataset(\"data/gridmet/pr_2025_gridmet.nc\", engine=\"netcdf4\")\n",
    "ds"
   ]
  },
  {
   "cell_type": "code",
   "execution_count": null,
   "id": "412ac84c",
   "metadata": {},
   "outputs": [],
   "source": [
    "ds_pr_0623 = ds.sel(day='2025-06-23T00:00:00.000000000')\n",
    "ds_pr_0623['precipitation_amount'].attrs"
   ]
  },
  {
   "cell_type": "code",
   "execution_count": null,
   "id": "3c2c20cc",
   "metadata": {},
   "outputs": [],
   "source": [
    "ds_pr_0623['precipitation_amount'].plot(robust=True)"
   ]
  },
  {
   "cell_type": "markdown",
   "id": "03b49c90",
   "metadata": {},
   "source": [
    "Attempt to download file froom gridmet site using requests. "
   ]
  },
  {
   "cell_type": "code",
   "execution_count": null,
   "id": "5354cd28",
   "metadata": {},
   "outputs": [],
   "source": [
    "import requests"
   ]
  },
  {
   "cell_type": "code",
   "execution_count": null,
   "id": "6c05ee69",
   "metadata": {},
   "outputs": [],
   "source": [
    "url = \"http://www.northwestknowledge.net/metdata/data/pr_2025.nc\""
   ]
  },
  {
   "cell_type": "code",
   "execution_count": null,
   "id": "3e97df18",
   "metadata": {},
   "outputs": [],
   "source": [
    "response = requests.get(url, stream=True)"
   ]
  },
  {
   "cell_type": "code",
   "execution_count": null,
   "id": "eec6c9a4",
   "metadata": {},
   "outputs": [],
   "source": [
    "local_filename = \"data/gridmet/pr_2025_gridmet.nc\"\n",
    "\n",
    "response.raise_for_status()  # Raise an error for bad status codes\n",
    "with open(local_filename, 'wb') as f:\n",
    "    for chunk in response.iter_content(chunk_size=8192):\n",
    "        if chunk:  # Skip keep-alive chunks\n",
    "            f.write(chunk)"
   ]
  },
  {
   "cell_type": "code",
   "execution_count": null,
   "id": "1b05daff",
   "metadata": {},
   "outputs": [],
   "source": [
    "import xarray as xr\n",
    "\n",
    "ds_gridmet = xr.open_dataset(\"data/gridmet/pr_2025_gridmet.nc\", engine=\"netcdf4\")\n",
    "ds_gridmet"
   ]
  },
  {
   "cell_type": "code",
   "execution_count": null,
   "id": "bd73c60a",
   "metadata": {},
   "outputs": [],
   "source": [
    "ds_gridmet_0623 = ds_gridmet.sel(day='2025-06-23T00:00:00.000000000', method=\"nearest\")\n",
    "ds_gridmet_0623"
   ]
  },
  {
   "cell_type": "markdown",
   "id": "d682777a",
   "metadata": {},
   "source": [
    "In production data pull, use method=\"nearest\" to get most recent day (with today - 1 as starting point)"
   ]
  },
  {
   "cell_type": "code",
   "execution_count": null,
   "id": "3df0431e",
   "metadata": {},
   "outputs": [],
   "source": [
    "ds_gridmet_0623['precipitation_amount'].plot(robust=True)"
   ]
  },
  {
   "cell_type": "code",
   "execution_count": null,
   "id": "b5f40b6b",
   "metadata": {},
   "outputs": [],
   "source": [
    "import rioxarray as rxr\n",
    "\n",
    "ds_gridmet_0623.crs"
   ]
  },
  {
   "cell_type": "code",
   "execution_count": null,
   "id": "9e34f26f",
   "metadata": {},
   "outputs": [],
   "source": [
    "# Extract GeoTransform values and convert to Affine\n",
    "from rasterio.transform import Affine\n",
    "\n",
    "gt_vals = [\n",
    "    -124.7666666333333,  # origin x\n",
    "    0.041666666666666,   # pixel width\n",
    "    0.0,                 # x rotation\n",
    "    49.400000000000000,  # origin y\n",
    "    0.0,                 # y rotation\n",
    "    -0.041666666666666   # pixel height (negative because top-to-bottom)\n",
    "]\n",
    "\n",
    "transform = Affine.from_gdal(*gt_vals)\n",
    "\n",
    "# Assign transform and CRS manually\n",
    "ds_gridmet_0623 = ds_gridmet_0623.rio.write_transform(transform)\n",
    "ds_gridmet_0623 = ds_gridmet_0623.rio.write_crs(\"EPSG:4326\")  # GridMET is in lat/lon WGS84\n",
    "\n",
    "# Now reproject to EPSG:5070 (Albers Equal Area for CONUS)\n",
    "ds_gridmet_0623_5070 = ds_gridmet_0623.rio.reproject(\"EPSG:5070\")"
   ]
  },
  {
   "cell_type": "code",
   "execution_count": null,
   "id": "fd1d2b42",
   "metadata": {},
   "outputs": [],
   "source": [
    "ds_gridmet_0623_5070 = ds_gridmet_0623_5070['precipitation_amount']"
   ]
  },
  {
   "cell_type": "code",
   "execution_count": null,
   "id": "fdb94156",
   "metadata": {},
   "outputs": [],
   "source": [
    "ds_gridmet_0623[\"precipitation_amount\"].plot()"
   ]
  },
  {
   "cell_type": "code",
   "execution_count": null,
   "id": "86ed6e53",
   "metadata": {},
   "outputs": [],
   "source": [
    "ds_gridmet_0623_5070.plot(robust=True)"
   ]
  },
  {
   "cell_type": "code",
   "execution_count": null,
   "id": "e77903c0",
   "metadata": {},
   "outputs": [],
   "source": [
    "ds_gridmet_0623_5070.to_netcdf(\"data/gridmet/pr_gridmet_5070_06232025.nc\")"
   ]
  },
  {
   "cell_type": "markdown",
   "id": "eb8e8a72",
   "metadata": {},
   "source": [
    "Gridmet precip data is in mm"
   ]
  }
 ],
 "metadata": {
  "kernelspec": {
   "display_name": "can-i-ride-research",
   "language": "python",
   "name": "python3"
  },
  "language_info": {
   "codemirror_mode": {
    "name": "ipython",
    "version": 3
   },
   "file_extension": ".py",
   "mimetype": "text/x-python",
   "name": "python",
   "nbconvert_exporter": "python",
   "pygments_lexer": "ipython3",
   "version": "3.13.2"
  }
 },
 "nbformat": 4,
 "nbformat_minor": 5
}
