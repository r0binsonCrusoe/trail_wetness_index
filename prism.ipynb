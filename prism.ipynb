{
 "cells": [
  {
   "cell_type": "markdown",
   "id": "5d408b7f",
   "metadata": {},
   "source": [
    "Testing the Prism (https://prism.oregonstate.edu/downloads/) precipitation data to see if this should be one of the variables in my model. The precipitation data is supposed to be highly accurate as it uses ground readings. However, the data also go through updates as more data is recorded. I will be using the first iteration of the data as I need to work with real time data, so I'm not sure if it will be superior (or robust enough) in comparison with something like GFS, which is the most real time, but only uses land models and is low spatial resolution. Another alternative to PRISM is GridMET data through Microsft Planetary computer (https://planetarycomputer.microsoft.com/dataset/gridmet)\n",
    "\n",
    "The .xml file received with the HTTP download describes the data like this: \"Display and/or analysis requiring spatially distributed daily precipitation for June 23, 2025. There are many methods of interpolating climate from monitoring stations to grid points. Some provide estimates of acceptable accuracy in flat terrain, but few have been able to adequately explain the extreme, complex variations in climate that occur in mountainous regions. Significant progress in this area has been achieved through the development of PRISM (Parameter-elevation Regressions on Independent Slopes Model). PRISM is an analytical model that uses point data and an underlying grid such as a digital elevation model (DEM) or a 30 yr climatological average to generate gridded estimates of daily precipitation and temperature (as well as other climatic parameters). PRISM is well suited to regions with mountainous terrain, because it incorporates a conceptual framework that addresses the spatial scale and pattern of orographic processes. Grids were modeled on a daily basis\"\n",
    "\n",
    "http url template: https://services.nacse.org/prism/data/get/<region>/<res>/<element>/<date><?format=[nc|asc|bil]>"
   ]
  },
  {
   "cell_type": "code",
   "execution_count": null,
   "id": "f01fe3f0",
   "metadata": {},
   "outputs": [],
   "source": [
    "import requests\n",
    "import zipfile\n",
    "import io\n",
    "import xarray as xr"
   ]
  },
  {
   "cell_type": "code",
   "execution_count": null,
   "id": "7f776cd7",
   "metadata": {},
   "outputs": [],
   "source": [
    "date = 20250623\n",
    "\n",
    "url = f\"https://services.nacse.org/prism/data/get/us/800m/ppt/{date}?format=nc\"\n",
    "\n",
    "response = requests.get(url)\n",
    "\n",
    "    \n"
   ]
  },
  {
   "cell_type": "code",
   "execution_count": null,
   "id": "d4e1a9b8",
   "metadata": {},
   "outputs": [],
   "source": [
    "if response.ok:\n",
    "    with zipfile.ZipFile(io.BytesIO(response.content)) as z:\n",
    "        # Print list of files in the zip\n",
    "        print(\"Contents of zip:\", z.namelist())\n",
    "        \n",
    "        nc_filename = [name for name in z.namelist() if name.endswith(\".nc\")][0]\n",
    "\n",
    "        z.extract(nc_filename, path=\"data/prism\")\n",
    "        # ds = xr.open_dataset(f\"./downloads/{nc_filename}\")\n",
    "\n",
    "        # with open(f\"data/prism/prism_ppt_{date}.zip\", \"wb\") as f:\n",
    "        #     f.write(response.content)\n",
    "        #     print(\"download successful\")\n",
    "else:\n",
    "    print(f\"Error {response.status_code}: {response.text}\")"
   ]
  },
  {
   "cell_type": "code",
   "execution_count": null,
   "id": "064f0a20",
   "metadata": {},
   "outputs": [],
   "source": [
    "ds = xr.open_dataset(\"data/prism/prism_ppt_20250623/prism_ppt_us_30s_20250623.nc\", engine=\"netcdf4\")\n"
   ]
  },
  {
   "cell_type": "code",
   "execution_count": null,
   "id": "0cb39b2a",
   "metadata": {},
   "outputs": [],
   "source": [
    "ds"
   ]
  },
  {
   "cell_type": "code",
   "execution_count": null,
   "id": "cba68dfe",
   "metadata": {},
   "outputs": [],
   "source": [
    "ds['Band1'].plot(robust=True)"
   ]
  },
  {
   "cell_type": "code",
   "execution_count": null,
   "id": "f9fa03e4",
   "metadata": {},
   "outputs": [],
   "source": [
    "ds['Band1'].mean()"
   ]
  },
  {
   "cell_type": "code",
   "execution_count": null,
   "id": "6123d8f9",
   "metadata": {},
   "outputs": [],
   "source": [
    "import rioxarray as rxr\n",
    "\n",
    "ds_prism = ds.rio.write_crs(\"EPSG:4269\")\n",
    "ds_prism_5070 = ds_prism.rio.reproject(\"EPSG:5070\")"
   ]
  },
  {
   "cell_type": "code",
   "execution_count": null,
   "id": "26b35750",
   "metadata": {},
   "outputs": [],
   "source": [
    "ds_prism_5070.plot(robust=True)"
   ]
  },
  {
   "cell_type": "code",
   "execution_count": null,
   "id": "3bf5bffc",
   "metadata": {},
   "outputs": [],
   "source": [
    "ds_prism_5070.to_netcdf(\"data/prism/prism_5070.nc\")"
   ]
  },
  {
   "cell_type": "markdown",
   "id": "5ef24146",
   "metadata": {},
   "source": [
    "Prism precipiation data is in mm"
   ]
  }
 ],
 "metadata": {
  "kernelspec": {
   "display_name": "can-i-ride-research",
   "language": "python",
   "name": "python3"
  },
  "language_info": {
   "codemirror_mode": {
    "name": "ipython",
    "version": 3
   },
   "file_extension": ".py",
   "mimetype": "text/x-python",
   "name": "python",
   "nbconvert_exporter": "python",
   "pygments_lexer": "ipython3",
   "version": "3.13.2"
  }
 },
 "nbformat": 4,
 "nbformat_minor": 5
}
