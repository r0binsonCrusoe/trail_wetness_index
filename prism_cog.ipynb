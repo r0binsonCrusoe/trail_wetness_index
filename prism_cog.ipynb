{
 "cells": [
  {
   "cell_type": "markdown",
   "id": "2f4ecad7",
   "metadata": {},
   "source": [
    "# Attempting to use Prism data as Cloud Optimized GeoTiff"
   ]
  },
  {
   "cell_type": "code",
   "execution_count": null,
   "id": "23ca23f1",
   "metadata": {},
   "outputs": [],
   "source": [
    "import rioxarray as rxr\n",
    "import requests\n",
    "import zipfile\n",
    "import io"
   ]
  },
  {
   "cell_type": "code",
   "execution_count": null,
   "id": "dc23ce2f",
   "metadata": {},
   "outputs": [],
   "source": [
    "date = \"20250719\" # CANNOT access any one file more than once each day. \n",
    "\n",
    "url = f\"https://services.nacse.org/prism/data/get/us/800m/ppt/{date}\"\n"
   ]
  },
  {
   "cell_type": "code",
   "execution_count": null,
   "id": "0f8a6ea7",
   "metadata": {},
   "outputs": [],
   "source": [
    "response = requests.get(url)\n",
    "response.raise_for_status()"
   ]
  },
  {
   "cell_type": "code",
   "execution_count": null,
   "id": "a43f3650",
   "metadata": {},
   "outputs": [],
   "source": [
    "with zipfile.ZipFile(io.BytesIO(response.content)) as z:\n",
    "    tif_filename = [f for f in z.namelist() if f.endswith(\".tif\")][0]\n",
    "    with z.open(tif_filename) as tif_file:\n",
    "        with open(tif_filename, \"wb\") as f:\n",
    "            f.write(tif_file.read())"
   ]
  },
  {
   "cell_type": "code",
   "execution_count": null,
   "id": "0cc1e04c",
   "metadata": {},
   "outputs": [],
   "source": [
    "ds_prism_chunk = rxr.open_rasterio(tif_filename, masked=True, chunks={\"x\": 1024, \"y\": 1024})\n",
    "%timeit ds_prism_chunk.mean().compute()"
   ]
  },
  {
   "cell_type": "code",
   "execution_count": null,
   "id": "03d2929a",
   "metadata": {},
   "outputs": [],
   "source": [
    "ds_prism = rxr.open_rasterio(tif_filename, masked=True)\n",
    "%timeit ds_prism.mean()"
   ]
  },
  {
   "cell_type": "code",
   "execution_count": null,
   "id": "edf9497f",
   "metadata": {},
   "outputs": [],
   "source": [
    "%time ds_chunk_5070 = ds_prism_chunk.rio.reproject(\"EPSG:5070\")"
   ]
  },
  {
   "cell_type": "code",
   "execution_count": null,
   "id": "bf6f36b8",
   "metadata": {},
   "outputs": [],
   "source": [
    "%time ds_5070 = ds_prism.rio.reproject(\"EPSG:5070\")"
   ]
  },
  {
   "cell_type": "markdown",
   "id": "fef6c86f",
   "metadata": {},
   "source": [
    "Dask array with chunks of 1024 x 1024 is slower than just a regular data array here. "
   ]
  },
  {
   "cell_type": "code",
   "execution_count": null,
   "id": "2648aab8",
   "metadata": {},
   "outputs": [],
   "source": [
    "ds_prism_chunk = rxr.open_rasterio(tif_filename, masked=True, chunks={\"x\": 2048, \"y\": 2048})\n",
    "%timeit ds_prism_chunk.mean().compute()"
   ]
  },
  {
   "cell_type": "code",
   "execution_count": null,
   "id": "19da9f77",
   "metadata": {},
   "outputs": [],
   "source": [
    "ds_prism = rxr.open_rasterio(tif_filename, masked=True)\n",
    "%timeit ds_prism.mean()"
   ]
  },
  {
   "cell_type": "markdown",
   "id": "37c8e9ee",
   "metadata": {},
   "source": [
    "Even slower with larger chunks of 2048 x 2048. "
   ]
  },
  {
   "cell_type": "markdown",
   "id": "8adbb3e7",
   "metadata": {},
   "source": []
  }
 ],
 "metadata": {
  "kernelspec": {
   "display_name": "can-i-ride-research",
   "language": "python",
   "name": "python3"
  },
  "language_info": {
   "codemirror_mode": {
    "name": "ipython",
    "version": 3
   },
   "file_extension": ".py",
   "mimetype": "text/x-python",
   "name": "python",
   "nbconvert_exporter": "python",
   "pygments_lexer": "ipython3",
   "version": "3.13.2"
  }
 },
 "nbformat": 4,
 "nbformat_minor": 5
}
