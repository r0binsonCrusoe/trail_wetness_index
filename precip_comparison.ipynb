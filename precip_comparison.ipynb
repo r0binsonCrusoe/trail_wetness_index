{
 "cells": [
  {
   "cell_type": "markdown",
   "id": "42311762",
   "metadata": {},
   "source": [
    "Compare xarray datasets from GFS, PRISM, and GridMET for the same day. "
   ]
  },
  {
   "cell_type": "code",
   "execution_count": null,
   "id": "12c3c8cd",
   "metadata": {
    "vscode": {
     "languageId": "plaintext"
    }
   },
   "outputs": [],
   "source": [
    "import xarray as xr"
   ]
  }
 ],
 "metadata": {
  "language_info": {
   "name": "python"
  }
 },
 "nbformat": 4,
 "nbformat_minor": 5
}
