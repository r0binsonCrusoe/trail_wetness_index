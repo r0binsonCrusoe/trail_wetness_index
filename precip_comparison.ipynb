{
 "cells": [
  {
   "cell_type": "markdown",
   "id": "42311762",
   "metadata": {},
   "source": [
    "Compare xarray datasets from GFS, PRISM, and GridMET for the same day. \n",
    "\n",
    "Check units. Check spatial extent"
   ]
  },
  {
   "cell_type": "code",
   "execution_count": null,
   "id": "12c3c8cd",
   "metadata": {},
   "outputs": [],
   "source": [
    "import xarray as xr\n",
    "\n",
    "ds_gridmet = xr.open_dataset(\"data/gridmet/pr_gridmet_5070_06232025.nc\", engine=\"netcdf4\")\n",
    "\n",
    "ds_prism = xr.open_dataset(\"data/prism/prism_5070.nc\", engine=\"netcdf4\")\n",
    "\n",
    "ds_gfs = xr.open_dataset(\"data/gfs/gfs_06232025_tprcp_5070.nc\", engine=\"netcdf4\") "
   ]
  },
  {
   "cell_type": "markdown",
   "id": "e708197a",
   "metadata": {},
   "source": [
    "# Gridmet"
   ]
  },
  {
   "cell_type": "code",
   "execution_count": null,
   "id": "c631491c",
   "metadata": {},
   "outputs": [],
   "source": [
    "ds_gridmet"
   ]
  },
  {
   "cell_type": "code",
   "execution_count": null,
   "id": "96b598c5",
   "metadata": {},
   "outputs": [],
   "source": [
    "ds_gridmet[\"precipitation_amount\"].mean()"
   ]
  },
  {
   "cell_type": "code",
   "execution_count": null,
   "id": "80200bc2",
   "metadata": {},
   "outputs": [],
   "source": [
    "gridmet_range = ds_gridmet[\"precipitation_amount\"].max() - ds_gridmet[\"precipitation_amount\"].min()\n",
    "gridmet_range"
   ]
  },
  {
   "cell_type": "code",
   "execution_count": null,
   "id": "482da0a4",
   "metadata": {},
   "outputs": [],
   "source": [
    "ds_gridmet_slice = ds_gridmet.sel(x=\"00.0\", y=\"2300000\", method=\"nearest\")"
   ]
  },
  {
   "cell_type": "code",
   "execution_count": null,
   "id": "60c677e2",
   "metadata": {},
   "outputs": [],
   "source": [
    "ds_gridmet_slice[\"precipitation_amount\"].values"
   ]
  },
  {
   "cell_type": "markdown",
   "id": "a746aabc",
   "metadata": {},
   "source": [
    "# Prism        "
   ]
  },
  {
   "cell_type": "code",
   "execution_count": null,
   "id": "df2e7a3c",
   "metadata": {},
   "outputs": [],
   "source": [
    "ds_prism"
   ]
  },
  {
   "cell_type": "code",
   "execution_count": null,
   "id": "9356538f",
   "metadata": {},
   "outputs": [],
   "source": [
    "ds_prism[\"Band1\"].mean()"
   ]
  },
  {
   "cell_type": "code",
   "execution_count": null,
   "id": "b08681b7",
   "metadata": {},
   "outputs": [],
   "source": [
    "prism_range = ds_prism[\"Band1\"].max() - ds_prism[\"Band1\"].min()\n",
    "prism_range\n"
   ]
  },
  {
   "cell_type": "code",
   "execution_count": null,
   "id": "e2121123",
   "metadata": {},
   "outputs": [],
   "source": [
    "ds_prism_slice = ds_prism.sel(x=\"0.0\", y=\"2300000\", method=\"nearest\")"
   ]
  },
  {
   "cell_type": "code",
   "execution_count": null,
   "id": "ab4bf8ad",
   "metadata": {},
   "outputs": [],
   "source": [
    "ds_prism_slice[\"Band1\"].values"
   ]
  },
  {
   "cell_type": "code",
   "execution_count": null,
   "id": "18153df5",
   "metadata": {},
   "outputs": [],
   "source": []
  },
  {
   "cell_type": "markdown",
   "id": "7643b84b",
   "metadata": {},
   "source": [
    "GFS"
   ]
  },
  {
   "cell_type": "code",
   "execution_count": null,
   "id": "89b7b879",
   "metadata": {},
   "outputs": [],
   "source": [
    "ds_gfs"
   ]
  },
  {
   "cell_type": "code",
   "execution_count": null,
   "id": "abec9029",
   "metadata": {},
   "outputs": [],
   "source": [
    "ds_gfs_slice = ds_gfs.sel(x=\"0.0\", y=\"2300000\", method=\"nearest\")\n",
    "ds_gfs_slice"
   ]
  },
  {
   "cell_type": "code",
   "execution_count": null,
   "id": "521da9b4",
   "metadata": {},
   "outputs": [],
   "source": [
    "gfs_range = ds_gfs[\"tprcp\"].max() - ds_gfs[\"tprcp\"].min()\n",
    "gfs_range"
   ]
  },
  {
   "cell_type": "code",
   "execution_count": null,
   "id": "b886f940",
   "metadata": {},
   "outputs": [],
   "source": []
  },
  {
   "cell_type": "code",
   "execution_count": null,
   "id": "4b07a296",
   "metadata": {},
   "outputs": [],
   "source": [
    "ds_comparison = xr.concat([ds_gridmet[\"precipitation_amount\"], ds_prism[\"Band1\"], ds_gfs[\"tprcp\"]], dim=\"data_source\")"
   ]
  },
  {
   "cell_type": "code",
   "execution_count": null,
   "id": "142ac248",
   "metadata": {},
   "outputs": [],
   "source": [
    "ds_comparison"
   ]
  },
  {
   "cell_type": "markdown",
   "id": "dff62138",
   "metadata": {},
   "source": [
    "## Comaparison Notes\n",
    "\n",
    "Gridmet is ~4km spatial resolution while Prism is 800m. Gridmet mean for entire dataset is slightly higher.\n",
    "\n",
    "GFS is the coarsest spatial resolution at only 13km. I think I should only use this for forecast (same day and into future days). "
   ]
  }
 ],
 "metadata": {
  "kernelspec": {
   "display_name": "can-i-ride-research",
   "language": "python",
   "name": "python3"
  },
  "language_info": {
   "codemirror_mode": {
    "name": "ipython",
    "version": 3
   },
   "file_extension": ".py",
   "mimetype": "text/x-python",
   "name": "python",
   "nbconvert_exporter": "python",
   "pygments_lexer": "ipython3",
   "version": "3.13.2"
  }
 },
 "nbformat": 4,
 "nbformat_minor": 5
}
