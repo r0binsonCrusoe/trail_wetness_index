{
 "cells": [
  {
   "cell_type": "code",
   "execution_count": null,
   "id": "6f2cf68d",
   "metadata": {},
   "outputs": [],
   "source": [
    "from owslib.wcs import WebCoverageService\n",
    "import xarray as xr\n",
    "import rioxarray as rxr\n",
    "import matplotlib.pyplot as plt"
   ]
  },
  {
   "cell_type": "code",
   "execution_count": null,
   "id": "afae4f64",
   "metadata": {},
   "outputs": [],
   "source": [
    "sc_bbox_coords = [31, -83, 35.2, -78]\n",
    "sc_bbox_grid = [3445000, -9223000, 3911000, -8667000] #meters\n",
    "sc_x_m = (-9223000, -8667000) # meters\n",
    "sc_y_m = (3911000, 3445000) # meters\n",
    "sc_x = (-9223000 / 250), (-8667000 / 250) # grid cells (didn't work for slicing)\n",
    "sc_y = 3445000 / 250, 3911000 / 250 # grid cells (didn't work for slicing)\n",
    "\n"
   ]
  },
  {
   "cell_type": "code",
   "execution_count": null,
   "id": "b28bca0f",
   "metadata": {},
   "outputs": [],
   "source": [
    "bdod_wcs = WebCoverageService('https://maps.isric.org/mapserv?map=/map/bdod.map')\n",
    "\n",
    "print([op.name for op in bdod_wcs.operations]) \n"
   ]
  },
  {
   "cell_type": "code",
   "execution_count": null,
   "id": "5523bd37",
   "metadata": {},
   "outputs": [],
   "source": [
    "print(list(bdod_wcs.contents))"
   ]
  },
  {
   "cell_type": "code",
   "execution_count": null,
   "id": "0278c30c",
   "metadata": {},
   "outputs": [],
   "source": [
    "bdod_0_5_mean = bdod_wcs.contents['bdod_0-5cm_mean']\n",
    "bdod_0_5_mean.boundingboxes"
   ]
  },
  {
   "cell_type": "code",
   "execution_count": null,
   "id": "0a7d3ec0",
   "metadata": {},
   "outputs": [],
   "source": [
    "bdod_0_5_mean.descCov"
   ]
  },
  {
   "cell_type": "code",
   "execution_count": null,
   "id": "37165b7c",
   "metadata": {},
   "outputs": [],
   "source": [
    "# Bulk Density \n",
    "crs = 'http://www.opengis.net/def/crs/EPSG/0/152160'\n",
    "# subsets = [(\"X\", -13158388, -10582926), (\"Y\", 2679089, 5640999)]    \n",
    "subsets = [(\"X\", -10582926, -7582926), (\"Y\", 2679089, 5640999)]    # Second for coverage\n",
    "\n",
    "response = bdod_wcs.getCoverage(\n",
    "    identifier=['bdod_0-5cm_mean'], # needs to be list!\n",
    "    crs=crs,\n",
    "    subsets=subsets,\n",
    "    resx=250, resy=250,\n",
    "    format='image/tiff',\n",
    ")\n",
    "\n",
    "with open(\"./data/bulk_density_0_5_mean_us2.tif\", \"wb\") as file:\n",
    "    file.write(response.read())"
   ]
  },
  {
   "cell_type": "code",
   "execution_count": null,
   "id": "56568555",
   "metadata": {},
   "outputs": [],
   "source": [
    "#Use same method for getting bulk density to get sand, clay, soc\n",
    "\n",
    "clay_wcs = WebCoverageService(\"https://maps.isric.org/mapserv?map=/map/clay.map\")\n",
    "sand_wcs = WebCoverageService(\"https://maps.isric.org/mapserv?map=/map/sand.map\")\n",
    "soc_wcs = WebCoverageService(\"https://maps.isric.org/mapserv?map=/map/soc.map\")\n",
    "\n",
    "clay_0_5_mean = clay_wcs.contents['clay_0-5cm_mean']\n",
    "sand_0_5_mean = sand_wcs.contents['sand_0-5cm_mean']\n",
    "soc_0_5_mean = soc_wcs.contents['soc_0-5cm_mean']"
   ]
  },
  {
   "cell_type": "code",
   "execution_count": null,
   "id": "52fa0c8b",
   "metadata": {},
   "outputs": [],
   "source": [
    "# Clay 1\n",
    " \n",
    "crs = 'http://www.opengis.net/def/crs/EPSG/0/152160'\n",
    "subsets = [(\"X\", -13158388, -10582926), (\"Y\", 2679089, 5640999)]    \n",
    "#subsets = [(\"X\", -10582926, -7582926), (\"Y\", 2679089, 5640999)]    # Second for coverage of CONUS\n",
    "\n",
    "response = clay_wcs.getCoverage(\n",
    "    identifier=['clay_0-5cm_mean'], # needs to be list!\n",
    "    crs=crs,\n",
    "    subsets=subsets,\n",
    "    resx=250, resy=250,\n",
    "    format='image/tiff',\n",
    ")\n",
    "\n",
    "with open(\"./data/clay_0_5_mean_us1.tif\", \"wb\") as file:\n",
    "    file.write(response.read())\n",
    "    "
   ]
  },
  {
   "cell_type": "code",
   "execution_count": null,
   "id": "334a373d",
   "metadata": {},
   "outputs": [],
   "source": [
    "# Clay 2\n",
    " \n",
    "crs = 'http://www.opengis.net/def/crs/EPSG/0/152160'\n",
    "# subsets = [(\"X\", -13158388, -10582926), (\"Y\", 2679089, 5640999)]    \n",
    "subsets = [(\"X\", -10582926, -7582926), (\"Y\", 2679089, 5640999)]    # Second for coverage of CONUS\n",
    "\n",
    "response = clay_wcs.getCoverage(\n",
    "    identifier=['clay_0-5cm_mean'], # needs to be list!\n",
    "    crs=crs,\n",
    "    subsets=subsets,\n",
    "    resx=250, resy=250,\n",
    "    format='image/tiff',\n",
    ")\n",
    "\n",
    "with open(\"./data/clay_0_5_mean_us2.tif\", \"wb\") as file:\n",
    "    file.write(response.read())"
   ]
  },
  {
   "cell_type": "code",
   "execution_count": null,
   "id": "1ff35d6a",
   "metadata": {},
   "outputs": [],
   "source": [
    "# Sand 1\n",
    " \n",
    "crs = 'http://www.opengis.net/def/crs/EPSG/0/152160'\n",
    "subsets = [(\"X\", -13158388, -10582926), (\"Y\", 2679089, 5640999)]    \n",
    "#subsets = [(\"X\", -10582926, -7582926), (\"Y\", 2679089, 5640999)]    # Second for coverage of CONUS\n",
    "\n",
    "response = sand_wcs.getCoverage(\n",
    "    identifier=['sand_0-5cm_mean'], # needs to be list!\n",
    "    crs=crs,\n",
    "    subsets=subsets,\n",
    "    resx=250, resy=250,\n",
    "    format='image/tiff',\n",
    ")\n",
    "\n",
    "with open(\"./data/sand_0_5_mean_us1.tif\", \"wb\") as file:\n",
    "    file.write(response.read())\n",
    "\n"
   ]
  },
  {
   "cell_type": "code",
   "execution_count": null,
   "id": "76778a7e",
   "metadata": {},
   "outputs": [],
   "source": [
    "# Sand 2\n",
    " \n",
    "crs = 'http://www.opengis.net/def/crs/EPSG/0/152160'\n",
    "# subsets = [(\"X\", -13158388, -10582926), (\"Y\", 2679089, 5640999)]    \n",
    "subsets = [(\"X\", -10582926, -7582926), (\"Y\", 2679089, 5640999)]    # Second for coverage of CONUS\n",
    "\n",
    "response = sand_wcs.getCoverage(\n",
    "    identifier=['sand_0-5cm_mean'], # needs to be list!\n",
    "    crs=crs,\n",
    "    subsets=subsets,\n",
    "    resx=250, resy=250,\n",
    "    format='image/tiff',\n",
    ")\n",
    "\n",
    "with open(\"./data/sand_0_5_mean_us2.tif\", \"wb\") as file:\n",
    "    file.write(response.read())"
   ]
  },
  {
   "cell_type": "code",
   "execution_count": null,
   "id": "e5a9781e",
   "metadata": {},
   "outputs": [],
   "source": [
    "# soc 1\n",
    " \n",
    "crs = 'http://www.opengis.net/def/crs/EPSG/0/152160'\n",
    "subsets = [(\"X\", -13158388, -10582926), (\"Y\", 2679089, 5640999)]    \n",
    "#subsets = [(\"X\", -10582926, -7582926), (\"Y\", 2679089, 5640999)]    # Second for coverage of CONUS\n",
    "\n",
    "response = soc_wcs.getCoverage(\n",
    "    identifier=['soc_0-5cm_mean'], # needs to be list!\n",
    "    crs=crs,\n",
    "    subsets=subsets,\n",
    "    resx=250, resy=250,\n",
    "    format='image/tiff',\n",
    ")\n",
    "\n",
    "with open(\"./data/soc_0_5_mean_us1.tif\", \"wb\") as file:\n",
    "    file.write(response.read())"
   ]
  },
  {
   "cell_type": "code",
   "execution_count": null,
   "id": "401810a6",
   "metadata": {},
   "outputs": [],
   "source": [
    "# soc 2\n",
    " \n",
    "crs = 'http://www.opengis.net/def/crs/EPSG/0/152160'\n",
    "# subsets = [(\"X\", -13158388, -10582926), (\"Y\", 2679089, 5640999)]    \n",
    "subsets = [(\"X\", -10582926, -7582926), (\"Y\", 2679089, 5640999)]    # Second for coverage of CONUS\n",
    "\n",
    "response = soc_wcs.getCoverage(\n",
    "    identifier=['soc_0-5cm_mean'], # needs to be list!\n",
    "    crs=crs,\n",
    "    subsets=subsets,\n",
    "    resx=250, resy=250,\n",
    "    format='image/tiff',\n",
    ")\n",
    "\n",
    "with open(\"./data/soc_0_5_mean_us2.tif\", \"wb\") as file:\n",
    "    file.write(response.read())"
   ]
  },
  {
   "cell_type": "code",
   "execution_count": null,
   "id": "0922e887",
   "metadata": {},
   "outputs": [],
   "source": [
    "def compute_soil_properties_xr(bd, sand, clay, soc):\n",
    "    # Add coarse fragments later to adjust awc in rocky soils. Usually awc * (1 - (cf/100))\n",
    "    \"\"\"\n",
    "    Compute porosity, field capacity, wilting point, and available water capacity using xarray DataArrays.\n",
    "    All parameters are xarray DataArrays with aligned dimensions and spatial coordinates.\n",
    "    \"\"\"\n",
    "    bd_g_cm3 = bd.astype(\"float32\") / 100\n",
    "    sand_frac = sand.astype(\"float32\") / 1000\n",
    "    clay_frac = clay.astype(\"float32\") / 1000\n",
    "    soc_g_kg = soc.astype(\"float32\") / 10\n",
    "    om_pct = soc_g_kg * 1.724\n",
    "\n",
    "    # Particle density of mineral soil in g/cm³\n",
    "    particle_density = 2.65\n",
    "\n",
    "    # Porosity\n",
    "    porosity = 1 - (bd_g_cm3 / particle_density)\n",
    "\n",
    "    # Field Capacity (volumetric water content at -33 kPa)\n",
    "    fc = (\n",
    "        -0.251 * sand_frac\n",
    "        + 0.195 * clay_frac\n",
    "        + 0.011 * om_pct\n",
    "        + 0.006 * sand_frac * om_pct\n",
    "        - 0.027 * clay_frac * om_pct\n",
    "        + 0.452\n",
    "    )\n",
    "\n",
    "    # Wilting Point (volumetric water content at -1500 kPa)\n",
    "    wp = (\n",
    "        -0.024 * sand_frac\n",
    "        + 0.487 * clay_frac\n",
    "        + 0.006 * om_pct\n",
    "        + 0.005 * sand_frac * om_pct\n",
    "        - 0.013 * clay_frac * om_pct\n",
    "        + 0.068\n",
    "    )\n",
    "\n",
    "    # Available Water Capacity\n",
    "    awc = fc - wp\n",
    "\n",
    "    return porosity.clip(0, 1), fc.clip(0, 1), wp.clip(0, 1), awc.clip(0, 1)"
   ]
  },
  {
   "cell_type": "code",
   "execution_count": null,
   "id": "187957dc",
   "metadata": {},
   "outputs": [],
   "source": [
    "bulk_density_1 = rxr.open_rasterio(\n",
    "    \"data/soils/bulk_density_0_5_mean.tif\", masked=True\n",
    ").squeeze()\n",
    "\n",
    "bulk_density_2 = rxr.open_rasterio(\n",
    "    \"data/soils/bulk_density_0_5_mean_us2.tif\", masked=True\n",
    ").squeeze()\n"
   ]
  },
  {
   "cell_type": "code",
   "execution_count": null,
   "id": "b32fc5c3",
   "metadata": {},
   "outputs": [],
   "source": [
    "bulk_density_1"
   ]
  },
  {
   "cell_type": "code",
   "execution_count": null,
   "id": "0ddc698f",
   "metadata": {},
   "outputs": [],
   "source": [
    "sand_1 = rxr.open_rasterio(\"data/soils/sand_0_5_mean_us1.tif\", masked=True).squeeze()\n",
    "sand_2 = rxr.open_rasterio(\"data/soils/sand_0_5_mean_us2.tif\", masked=True).squeeze()\n",
    "clay_1 = rxr.open_rasterio(\"data/soils/clay_0_5_mean_us1.tif\", masked=True).squeeze()\n",
    "clay_2 = rxr.open_rasterio(\"data/soils/clay_0_5_mean_us2.tif\", masked=True).squeeze()\n",
    "soc_1 = rxr.open_rasterio(\"data/soils/soc_0_5_mean_us1.tif\", masked=True).squeeze()\n",
    "soc_2 = rxr.open_rasterio(\"data/soils/soc_0_5_mean_us2.tif\", masked=True).squeeze()\n"
   ]
  },
  {
   "cell_type": "code",
   "execution_count": null,
   "id": "4a3465d8",
   "metadata": {},
   "outputs": [],
   "source": [
    "print(bulk_density_1.x.min().values, bulk_density_1.x.max().values)\n",
    "print(bulk_density_2.x.min().values, bulk_density_2.x.max().values)\n"
   ]
  },
  {
   "cell_type": "code",
   "execution_count": null,
   "id": "f2a399b6",
   "metadata": {},
   "outputs": [],
   "source": [
    "bulk_density = xr.combine_by_coords([bulk_density_1, bulk_density_2], combine_attrs=\"drop_conflicts\")"
   ]
  },
  {
   "cell_type": "code",
   "execution_count": null,
   "id": "c01bda84",
   "metadata": {},
   "outputs": [],
   "source": [
    "bulk_density"
   ]
  },
  {
   "cell_type": "code",
   "execution_count": null,
   "id": "83cb705b",
   "metadata": {},
   "outputs": [],
   "source": [
    "bulk_density_sc = bulk_density.sel(x=slice(-9100000, -9000000), y=slice(3300000, 3400000))"
   ]
  },
  {
   "cell_type": "code",
   "execution_count": null,
   "id": "2cd7a5f5",
   "metadata": {},
   "outputs": [],
   "source": [
    "bulk_density_sc"
   ]
  },
  {
   "cell_type": "code",
   "execution_count": null,
   "id": "308eee26",
   "metadata": {},
   "outputs": [],
   "source": [
    "sand = xr.combine_by_coords([sand_1, sand_2], combine_attrs=\"drop_conflicts\")\n",
    "clay = xr.combine_by_coords([clay_1, clay_2], combine_attrs=\"drop_conflicts\")\n",
    "soc = xr.combine_by_coords([soc_1, soc_2], combine_attrs=\"drop_conflicts\")"
   ]
  },
  {
   "cell_type": "code",
   "execution_count": null,
   "id": "84846351",
   "metadata": {},
   "outputs": [],
   "source": [
    "porosity, field_capacity, wilting_point, awc = compute_soil_properties_xr(bulk_density, sand, clay, soc)"
   ]
  },
  {
   "cell_type": "code",
   "execution_count": null,
   "id": "f2a3fdc9",
   "metadata": {},
   "outputs": [],
   "source": [
    "field_capacity"
   ]
  },
  {
   "cell_type": "code",
   "execution_count": null,
   "id": "9fe29e8b",
   "metadata": {},
   "outputs": [],
   "source": [
    "soil_ds = xr.Dataset({\"porosity\": porosity, \"field_capacity\": field_capacity, \"wilting_point\": wilting_point, \"available_water_capacity\": awc})"
   ]
  },
  {
   "cell_type": "code",
   "execution_count": null,
   "id": "62d719db",
   "metadata": {},
   "outputs": [],
   "source": [
    "soil_ds"
   ]
  },
  {
   "cell_type": "code",
   "execution_count": null,
   "id": "b6ac36b8",
   "metadata": {},
   "outputs": [],
   "source": [
    "soil_ds_sc = soil_ds.sel(x=slice(-9223000, -8667000), y=slice(3911000, 3445000,))"
   ]
  },
  {
   "cell_type": "code",
   "execution_count": null,
   "id": "c8b5ad8e",
   "metadata": {},
   "outputs": [],
   "source": [
    "soil_ds_sc"
   ]
  },
  {
   "cell_type": "code",
   "execution_count": null,
   "id": "1218b0af",
   "metadata": {},
   "outputs": [],
   "source": [
    "soil_ds_sc_5070 = soil_ds_sc.rio.reproject(\"EPSG:5070\")"
   ]
  },
  {
   "cell_type": "code",
   "execution_count": null,
   "id": "a17f4a77",
   "metadata": {},
   "outputs": [],
   "source": [
    "soil_ds_5070 = soil_ds.rio.reproject(\"EPSG:5070\")"
   ]
  },
  {
   "cell_type": "code",
   "execution_count": null,
   "id": "20179696",
   "metadata": {},
   "outputs": [],
   "source": [
    "soil_ds_5070['porosity'].attrs\n"
   ]
  },
  {
   "cell_type": "code",
   "execution_count": null,
   "id": "6697aa38",
   "metadata": {},
   "outputs": [],
   "source": [
    "soil_ds_sc_5070 = soil_ds_5070.sel(x=slice(1105065, 1586690), y=slice(1508561, 1046893)) # need to mask this to remove oceans. Probably before doing the calculations"
   ]
  },
  {
   "cell_type": "code",
   "execution_count": null,
   "id": "862d17f4",
   "metadata": {},
   "outputs": [],
   "source": [
    "plt.figure(figsize=(8,8))\n",
    "soil_ds_sc_5070['wilting_point'].plot()\n",
    "plt.title(\"Field Capacity\")\n",
    "plt.xlabel(\"Projection X\")\n",
    "plt.ylabel(\"Projection Y\")\n",
    "plt.show()"
   ]
  },
  {
   "cell_type": "code",
   "execution_count": null,
   "id": "07c8b7f0",
   "metadata": {},
   "outputs": [],
   "source": [
    "# soil_ds_5070.to_netcdf(\"./data/soil_ds_5070.nc\") #produced a 5.7GB file!\n",
    "soil_ds_sc_5070.to_netcdf(\"./data/soil_ds_5070.nc\") #62.4 MB"
   ]
  }
 ],
 "metadata": {
  "kernelspec": {
   "display_name": "can-i-ride-research",
   "language": "python",
   "name": "python3"
  },
  "language_info": {
   "codemirror_mode": {
    "name": "ipython",
    "version": 3
   },
   "file_extension": ".py",
   "mimetype": "text/x-python",
   "name": "python",
   "nbconvert_exporter": "python",
   "pygments_lexer": "ipython3",
   "version": "3.13.2"
  }
 },
 "nbformat": 4,
 "nbformat_minor": 5
}
