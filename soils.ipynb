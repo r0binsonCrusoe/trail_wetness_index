{
 "cells": [
  {
   "cell_type": "code",
   "execution_count": 2,
   "id": "6f2cf68d",
   "metadata": {},
   "outputs": [],
   "source": [
    "from owslib.wcs import WebCoverageService\n",
    "import xarray as xr\n",
    "import rioxarray as rxr"
   ]
  },
  {
   "cell_type": "code",
   "execution_count": 16,
   "id": "b28bca0f",
   "metadata": {},
   "outputs": [
    {
     "name": "stdout",
     "output_type": "stream",
     "text": [
      "['GetCapabilities', 'DescribeCoverage', 'GetCoverage']\n"
     ]
    }
   ],
   "source": [
    "bdod_wcs = WebCoverageService('https://maps.isric.org/mapserv?map=/map/bdod.map')\n",
    "\n",
    "print([op.name for op in bdod_wcs.operations]) \n"
   ]
  },
  {
   "cell_type": "code",
   "execution_count": 6,
   "id": "5523bd37",
   "metadata": {},
   "outputs": [
    {
     "name": "stdout",
     "output_type": "stream",
     "text": [
      "['bdod_0-5cm_Q0.5', 'bdod_0-5cm_Q0.05', 'bdod_0-5cm_Q0.95', 'bdod_0-5cm_mean', 'bdod_0-5cm_uncertainty', 'bdod_5-15cm_Q0.5', 'bdod_5-15cm_Q0.05', 'bdod_5-15cm_Q0.95', 'bdod_5-15cm_mean', 'bdod_5-15cm_uncertainty', 'bdod_15-30cm_Q0.5', 'bdod_15-30cm_Q0.05', 'bdod_15-30cm_Q0.95', 'bdod_15-30cm_mean', 'bdod_15-30cm_uncertainty', 'bdod_30-60cm_Q0.05', 'bdod_30-60cm_Q0.5', 'bdod_30-60cm_Q0.95', 'bdod_30-60cm_mean', 'bdod_30-60cm_uncertainty', 'bdod_60-100cm_Q0.05', 'bdod_60-100cm_Q0.5', 'bdod_60-100cm_Q0.95', 'bdod_60-100cm_mean', 'bdod_60-100cm_uncertainty', 'bdod_100-200cm_Q0.05', 'bdod_100-200cm_Q0.5', 'bdod_100-200cm_Q0.95', 'bdod_100-200cm_mean', 'bdod_100-200cm_uncertainty']\n"
     ]
    }
   ],
   "source": [
    "print(list(bdod_wcs.contents))"
   ]
  },
  {
   "cell_type": "code",
   "execution_count": 23,
   "id": "0278c30c",
   "metadata": {},
   "outputs": [
    {
     "data": {
      "text/plain": [
       "[{'nativeSrs': 'http://www.opengis.net/def/crs/EPSG/0/152160',\n",
       "  'bbox': (-19949000.0, -6147500.0, 19861750.0, 8361000.0)}]"
      ]
     },
     "execution_count": 23,
     "metadata": {},
     "output_type": "execute_result"
    }
   ],
   "source": [
    "bdod_0_5_mean = bdod_wcs.contents['bdod_0-5cm_mean']\n",
    "bdod_0_5_mean.boundingboxes"
   ]
  },
  {
   "cell_type": "code",
   "execution_count": 15,
   "id": "0a7d3ec0",
   "metadata": {},
   "outputs": [
    {
     "data": {
      "text/plain": [
       "<Element {http://www.opengis.net/wcs/2.0}CoverageDescriptions at 0x125f6ba80>"
      ]
     },
     "execution_count": 15,
     "metadata": {},
     "output_type": "execute_result"
    }
   ],
   "source": [
    "bdod_0_5_mean.descCov"
   ]
  },
  {
   "cell_type": "code",
   "execution_count": 28,
   "id": "37165b7c",
   "metadata": {},
   "outputs": [],
   "source": [
    "\n",
    "crs = 'http://www.opengis.net/def/crs/EPSG/0/152160'\n",
    "# subsets = [(\"X\", -13158388, -10582926), (\"Y\", 2679089, 5640999)]    \n",
    "subsets = [(\"X\", -10582926, -7582926), (\"Y\", 2679089, 5640999)]    # Second for coverage\n",
    "\n",
    "response = bdod_wcs.getCoverage(\n",
    "    identifier=['bdod_0-5cm_mean'], # needs to be list!\n",
    "    crs=crs,\n",
    "    subsets=subsets,\n",
    "    resx=250, resy=250,\n",
    "    format='image/tiff',\n",
    "    \n",
    ")\n",
    "\n",
    "with open(\"./data/bulk_density_0_5_mean_us2.tif\", \"wb\") as file:\n",
    "    file.write(response.read())"
   ]
  }
 ],
 "metadata": {
  "kernelspec": {
   "display_name": ".venv",
   "language": "python",
   "name": "python3"
  },
  "language_info": {
   "codemirror_mode": {
    "name": "ipython",
    "version": 3
   },
   "file_extension": ".py",
   "mimetype": "text/x-python",
   "name": "python",
   "nbconvert_exporter": "python",
   "pygments_lexer": "ipython3",
   "version": "3.13.2"
  }
 },
 "nbformat": 4,
 "nbformat_minor": 5
}
