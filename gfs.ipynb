{
 "cells": [
  {
   "cell_type": "code",
   "execution_count": 2,
   "id": "7cc16aa0",
   "metadata": {},
   "outputs": [],
   "source": [
    "import s3fs\n",
    "import xarray as xr"
   ]
  },
  {
   "cell_type": "code",
   "execution_count": null,
   "id": "4a515d21",
   "metadata": {},
   "outputs": [],
   "source": [
    "# 1. Point s3fs at the public bucket (no credentials needed)\n",
    "fs = s3fs.S3FileSystem(anon=True)\n",
    "date = \"20250602\"\n",
    "# 2. List a directory (e.g. daily time_series files for soil moisture)\n",
    "path = f\"noaa-gfs-bdp-pds/gdas.{date}/00/atmos/\"  # adjust to your year/month dynamically\n",
    "files = fs.glob(\n",
    "    path + \"gdas.t00z.sfluxgrbf000.grib2\"\n",
    ")  \n",
    "\n",
    "# 3. Open as a single concatenated Dataset\n",
    "ds_gfs = xr.open_mfdataset(\n",
    "    [\"s3://\" + f for f in files],\n",
    "    engine=\"cfgrib2\", \n",
    "    combine=\"by_coords\",\n",
    "    backend_kwargs={\"fs\": fs},\n",
    ")\n"
   ]
  }
 ],
 "metadata": {
  "kernelspec": {
   "display_name": ".venv",
   "language": "python",
   "name": "python3"
  },
  "language_info": {
   "codemirror_mode": {
    "name": "ipython",
    "version": 3
   },
   "file_extension": ".py",
   "mimetype": "text/x-python",
   "name": "python",
   "nbconvert_exporter": "python",
   "pygments_lexer": "ipython3",
   "version": "3.13.2"
  }
 },
 "nbformat": 4,
 "nbformat_minor": 5
}
