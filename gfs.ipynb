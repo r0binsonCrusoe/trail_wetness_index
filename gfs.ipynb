{
 "cells": [
  {
   "cell_type": "markdown",
   "id": "c62c314a",
   "metadata": {},
   "source": [
    "Accessing GFS data from Amazon S3 bucket and analyzing variables of note (precip, soil moisture)"
   ]
  },
  {
   "cell_type": "code",
   "execution_count": null,
   "id": "4250cb51",
   "metadata": {},
   "outputs": [],
   "source": [
    "import fsspec\n",
    "import xarray as xr\n",
    "import s3fs\n"
   ]
  },
  {
   "cell_type": "code",
   "execution_count": null,
   "id": "0153a913",
   "metadata": {},
   "outputs": [],
   "source": [
    "#attmepting remotely open the file to \"stream\" it, or only access certain parts. \n",
    "s3_gfs_nc_path = \"s3://noaa-gfs-bdp-pds/gfs.20250623/00/atmos/gfs.t00z.sfcanl.nc\"\n",
    "fs = fsspec.filesystem(\"s3\", anon=True)\n",
    "\n",
    "with fs.open(s3_gfs_nc_path) as f:\n",
    "    ds = xr.open_dataset(s3_gfs_nc_path, engine=\"h5netcdf\") #Changed to h5netcdf backend because the netcdf4 backend does not support remotely opening files. \n",
    "    "
   ]
  },
  {
   "cell_type": "code",
   "execution_count": null,
   "id": "3f3c1d95",
   "metadata": {},
   "outputs": [],
   "source": [
    "hour = \"00\"\n",
    "s3_gfs_nc_path = f\"s3://noaa-gfs-bdp-pds/gfs.20250623/{hour}/atmos/gfs.t{hour}z.sfcanl.nc\"\n",
    "fs = fsspec.filesystem(\"s3\", anon=True)\n",
    "\n",
    "fsspec_caching = {\n",
    "    \"cache_type\": \"blockcache\",  # block cache stores blocks of fixed size and uses eviction using a LRU strategy.\n",
    "    \"block_size\": 8\n",
    "    * 1024\n",
    "    * 1024,  # size in bytes per block, adjust depends on the file size but the recommended size is in the MB\n",
    "}\n",
    "\n",
    "ds = xr.open_dataset(fs.open(s3_gfs_nc_path, **fsspec_caching), engine=\"h5netcdf\")\n",
    "ds"
   ]
  },
  {
   "cell_type": "code",
   "execution_count": null,
   "id": "54ebe730",
   "metadata": {},
   "outputs": [],
   "source": [
    "ds.attrs[\"\"]"
   ]
  },
  {
   "cell_type": "code",
   "execution_count": null,
   "id": "0e1fbcb5",
   "metadata": {},
   "outputs": [],
   "source": [
    "ds_us = ds.sel(grid_xt=slice(((180-125.5)+180), ((180-64)+180)),grid_yt=slice(50.2, 22))"
   ]
  },
  {
   "cell_type": "code",
   "execution_count": null,
   "id": "c0dfc814",
   "metadata": {},
   "outputs": [],
   "source": [
    "ds_us['tprcp']"
   ]
  },
  {
   "cell_type": "code",
   "execution_count": null,
   "id": "33d05cdb",
   "metadata": {},
   "outputs": [],
   "source": [
    "ds_us_tpcrp_00 = ds_us['tprcp'].where(ds_us['tprcp'] != ds_us['tprcp'].attrs['missing'])"
   ]
  },
  {
   "cell_type": "code",
   "execution_count": null,
   "id": "fd9e9783",
   "metadata": {},
   "outputs": [],
   "source": [
    "ds_us_tpcrp_00.plot(robust=True)"
   ]
  },
  {
   "cell_type": "markdown",
   "id": "f8a70837",
   "metadata": {},
   "source": [
    "Now I will try to pull all the 6 hourly files and add them together to get the full 6-23 precipitation, given prism is the full day in mm. "
   ]
  },
  {
   "cell_type": "code",
   "execution_count": null,
   "id": "afde680a",
   "metadata": {},
   "outputs": [],
   "source": [
    "hour = \"06\"\n",
    "s3_gfs_nc_path = f\"s3://noaa-gfs-bdp-pds/gfs.20250623/{hour}/atmos/gfs.t{hour}z.sfcanl.nc\"\n",
    "fs = fsspec.filesystem(\"s3\", anon=True)\n",
    "\n",
    "fsspec_caching = {\n",
    "    \"cache_type\": \"blockcache\",  # block cache stores blocks of fixed size and uses eviction using a LRU strategy.\n",
    "    \"block_size\": 8\n",
    "    * 1024\n",
    "    * 1024,  # size in bytes per block, adjust depends on the file size but the recommended size is in the MB\n",
    "}\n",
    "\n",
    "ds_06 = xr.open_dataset(fs.open(s3_gfs_nc_path, **fsspec_caching), engine=\"h5netcdf\")\n",
    "ds_06"
   ]
  },
  {
   "cell_type": "code",
   "execution_count": null,
   "id": "d70f924d",
   "metadata": {},
   "outputs": [],
   "source": [
    "ds_us_06 = ds_06.sel(grid_xt=slice(((180-125.5)+180), ((180-64)+180)),grid_yt=slice(50.2, 22))\n",
    "ds_us_tpcrp_06 = ds_us_06['tprcp'].where(ds_us_06['tprcp'] != ds_us_06['tprcp'].attrs['missing'])\n",
    "ds_us_tpcrp_06.plot(robust=True)"
   ]
  },
  {
   "cell_type": "code",
   "execution_count": null,
   "id": "b4e381de",
   "metadata": {},
   "outputs": [],
   "source": [
    "hour = \"12\"\n",
    "s3_gfs_nc_path = f\"s3://noaa-gfs-bdp-pds/gfs.20250623/{hour}/atmos/gfs.t{hour}z.sfcanl.nc\"\n",
    "fs = fsspec.filesystem(\"s3\", anon=True)\n",
    "\n",
    "fsspec_caching = {\n",
    "    \"cache_type\": \"blockcache\",  # block cache stores blocks of fixed size and uses eviction using a LRU strategy.\n",
    "    \"block_size\": 8\n",
    "    * 1024\n",
    "    * 1024,  # size in bytes per block, adjust depends on the file size but the recommended size is in the MB\n",
    "}\n",
    "\n",
    "ds_12 = xr.open_dataset(fs.open(s3_gfs_nc_path, **fsspec_caching), engine=\"h5netcdf\")\n",
    "ds_12"
   ]
  },
  {
   "cell_type": "code",
   "execution_count": null,
   "id": "4e2e98bf",
   "metadata": {},
   "outputs": [],
   "source": [
    "ds_us_12 = ds_12.sel(grid_xt=slice(((180-125.5)+180), ((180-64)+180)),grid_yt=slice(50.2, 22))\n",
    "ds_us_tpcrp_12 = ds_us_12['tprcp'].where(ds_us_12['tprcp'] != ds_us_12['tprcp'].attrs['missing'])\n",
    "ds_us_tpcrp_12.plot(robust=True)"
   ]
  },
  {
   "cell_type": "code",
   "execution_count": null,
   "id": "3f5c22be",
   "metadata": {},
   "outputs": [],
   "source": [
    "hour = \"18\"\n",
    "s3_gfs_nc_path = f\"s3://noaa-gfs-bdp-pds/gfs.20250623/{hour}/atmos/gfs.t{hour}z.sfcanl.nc\"\n",
    "fs = fsspec.filesystem(\"s3\", anon=True)\n",
    "\n",
    "fsspec_caching = {\n",
    "    \"cache_type\": \"blockcache\",  # block cache stores blocks of fixed size and uses eviction using a LRU strategy.\n",
    "    \"block_size\": 8\n",
    "    * 1024\n",
    "    * 1024,  # size in bytes per block, adjust depends on the file size but the recommended size is in the MB\n",
    "}\n",
    "\n",
    "ds_18 = xr.open_dataset(fs.open(s3_gfs_nc_path, **fsspec_caching), engine=\"h5netcdf\")\n",
    "ds_18"
   ]
  },
  {
   "cell_type": "code",
   "execution_count": null,
   "id": "f14a2afd",
   "metadata": {},
   "outputs": [],
   "source": [
    "ds_us_18 = ds_18.sel(grid_xt=slice(((180-125.5)+180), ((180-64)+180)),grid_yt=slice(50.2, 22))\n",
    "ds_us_tpcrp_18 = ds_us_18['tprcp'].where(ds_us_18['tprcp'] != 0)\n",
    "ds_us_tpcrp_18.plot(robust=True)"
   ]
  },
  {
   "cell_type": "code",
   "execution_count": null,
   "id": "b030cee4",
   "metadata": {},
   "outputs": [],
   "source": [
    "ds_tpcrp_total = xr.concat([ds_us_tpcrp_00, ds_us_tpcrp_06, ds_us_tpcrp_12, ds_us_tpcrp_18], dim=\"time\")"
   ]
  },
  {
   "cell_type": "code",
   "execution_count": null,
   "id": "87e7f52e",
   "metadata": {},
   "outputs": [],
   "source": [
    "ds_tpcrp_total"
   ]
  },
  {
   "cell_type": "code",
   "execution_count": null,
   "id": "1e0930ca",
   "metadata": {},
   "outputs": [],
   "source": [
    "ds_tpcrp_total = ds_tpcrp_total.sum(dim=\"time\")"
   ]
  },
  {
   "cell_type": "code",
   "execution_count": null,
   "id": "b8e4e0b0",
   "metadata": {},
   "outputs": [],
   "source": [
    "ds_tpcrp_total"
   ]
  },
  {
   "cell_type": "code",
   "execution_count": null,
   "id": "6e2f5219",
   "metadata": {},
   "outputs": [],
   "source": [
    "ds_tpcrp_total.plot(col=\"time\", robust=True)"
   ]
  },
  {
   "cell_type": "code",
   "execution_count": null,
   "id": "ca124e78",
   "metadata": {},
   "outputs": [],
   "source": [
    "import matplotlib.pyplot as plt\n",
    "import cartopy.crs as ccrs\n",
    "import cartopy.feature as cfeature\n",
    "\n",
    "projection = ccrs.PlateCarree()\n",
    "\n",
    "fig, axis = plt.subplots(1, 1, subplot_kw=dict(projection=ccrs.Orthographic(-90, 30)))\n",
    "\n",
    "\n",
    "ds_tpcrp_total['total_tpcrp'].plot(ax=axis, transform=ccrs.PlateCarree(), cbar_kwargs={\"orientation\": \"horizontal\", \"shrink\": 0.7}, robust=True)\n",
    "\n",
    "axis.coastlines()"
   ]
  },
  {
   "cell_type": "code",
   "execution_count": null,
   "id": "43fb5241",
   "metadata": {},
   "outputs": [],
   "source": [
    "ds_tpcrp_total"
   ]
  },
  {
   "cell_type": "code",
   "execution_count": null,
   "id": "531ed486",
   "metadata": {},
   "outputs": [],
   "source": [
    "ds_tprcp_total_4326 = ds_tpcrp_total.rio.write_crs(\"EPSG:4326\")\n",
    "ds_tprcp_total_4326_dims = ds_tprcp_total_4326.rio.set_spatial_dims(\"grid_xt\", \"grid_yt\")\n",
    "ds_tprcp_5070 = ds_tprcp_total_4326_dims.rio.reproject(\"EPSG:5070\")"
   ]
  },
  {
   "cell_type": "code",
   "execution_count": null,
   "id": "b655c1c5",
   "metadata": {},
   "outputs": [],
   "source": [
    "ds_tprcp_5070.plot(robust=True)"
   ]
  },
  {
   "cell_type": "markdown",
   "id": "f36ee297",
   "metadata": {},
   "source": [
    "GDAS tprcp is in units of kg/m**2, which should be the same as mm. "
   ]
  },
  {
   "cell_type": "code",
   "execution_count": null,
   "id": "7241a95b",
   "metadata": {},
   "outputs": [],
   "source": [
    "ds_tprcp_5070_units = ds_tprcp_5070 * 10000"
   ]
  },
  {
   "cell_type": "code",
   "execution_count": null,
   "id": "97f2a54c",
   "metadata": {},
   "outputs": [],
   "source": [
    "ds_tprcp_5070_units.plot(robust=True)"
   ]
  },
  {
   "cell_type": "code",
   "execution_count": null,
   "id": "c7093c38",
   "metadata": {},
   "outputs": [],
   "source": [
    "ds_tprcp_5070_units.to_netcdf(\"data/gfs/gfs_06232025_tprcp_5070.nc\")"
   ]
  },
  {
   "cell_type": "code",
   "execution_count": null,
   "id": "1e29dee6",
   "metadata": {},
   "outputs": [],
   "source": []
  }
 ],
 "metadata": {
  "kernelspec": {
   "display_name": "can-i-ride-research",
   "language": "python",
   "name": "python3"
  },
  "language_info": {
   "codemirror_mode": {
    "name": "ipython",
    "version": 3
   },
   "file_extension": ".py",
   "mimetype": "text/x-python",
   "name": "python",
   "nbconvert_exporter": "python",
   "pygments_lexer": "ipython3",
   "version": "3.13.2"
  }
 },
 "nbformat": 4,
 "nbformat_minor": 5
}
